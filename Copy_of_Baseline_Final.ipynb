{
  "nbformat": 4,
  "nbformat_minor": 0,
  "metadata": {
    "colab": {
      "name": "Copy of Baseline_Final.ipynb",
      "provenance": [],
      "collapsed_sections": []
    },
    "kernelspec": {
      "name": "python3",
      "display_name": "Python 3"
    },
    "accelerator": "GPU"
  },
  "cells": [
    {
      "cell_type": "code",
      "metadata": {
        "id": "_IHXHgMxrGz4"
      },
      "source": [
        "!git clone https://github.com/aashnakanuga/dl-math-word-problem-solving.git"
      ],
      "execution_count": null,
      "outputs": []
    },
    {
      "cell_type": "code",
      "metadata": {
        "id": "pc3TfwQ7PZhb"
      },
      "source": [
        "import pandas as pd\n",
        "import re\n",
        "import os\n",
        "import time\n",
        "import random\n",
        "import numpy as np\n",
        "\n",
        "try:\n",
        "  %tensorflow_version 2.x # enable TF 2.x in Colab\n",
        "except Exception:\n",
        "  pass\n",
        "\n",
        "import tensorflow as tf\n",
        "import matplotlib.pyplot as plt\n",
        "import matplotlib.ticker as ticker\n",
        "from sklearn.model_selection import train_test_split\n",
        "from google.colab import drive\n",
        "import pickle\n",
        "\n",
        "from nltk.translate.bleu_score import corpus_bleu"
      ],
      "execution_count": null,
      "outputs": []
    },
    {
      "cell_type": "code",
      "metadata": {
        "id": "JnCgKUrrPjQs",
        "colab": {
          "base_uri": "https://localhost:8080/",
          "height": 36
        },
        "outputId": "00ca537e-fad8-4260-eebc-94d0c516a163"
      },
      "source": [
        "tf.__version__"
      ],
      "execution_count": null,
      "outputs": [
        {
          "output_type": "execute_result",
          "data": {
            "application/vnd.google.colaboratory.intrinsic+json": {
              "type": "string"
            },
            "text/plain": [
              "'2.4.0'"
            ]
          },
          "metadata": {
            "tags": []
          },
          "execution_count": 3
        }
      ]
    },
    {
      "cell_type": "code",
      "metadata": {
        "id": "4u2YzspHkstP",
        "colab": {
          "base_uri": "https://localhost:8080/"
        },
        "outputId": "14ac7127-6769-4e80-9704-36b82dab6701"
      },
      "source": [
        "# Mount drive\n",
        "drive.mount('/gdrive')\n",
        "drive_root = '/gdrive/My Drive/'"
      ],
      "execution_count": null,
      "outputs": [
        {
          "output_type": "stream",
          "text": [
            "Mounted at /gdrive\n"
          ],
          "name": "stdout"
        }
      ]
    },
    {
      "cell_type": "markdown",
      "metadata": {
        "id": "5xx2ORAXdeJk"
      },
      "source": [
        "### Creating a custom dataset of expressions(target) and math word problems(input)"
      ]
    },
    {
      "cell_type": "code",
      "metadata": {
        "id": "Cd32CVu1ZRx3"
      },
      "source": [
        "## Function to convert integers to English words\n",
        "def numberToWords(num):\n",
        "  \"\"\"\n",
        "  :type num: int\n",
        "  :rtype: str\n",
        "  \"\"\"\n",
        "  def one(num):\n",
        "      switcher = {\n",
        "          1: 'One',\n",
        "          2: 'Two',\n",
        "          3: 'Three',\n",
        "          4: 'Four',\n",
        "          5: 'Five',\n",
        "          6: 'Six',\n",
        "          7: 'Seven',\n",
        "          8: 'Eight',\n",
        "          9: 'Nine'\n",
        "      }\n",
        "      return switcher.get(num)\n",
        "\n",
        "  def two_less_20(num):\n",
        "      switcher = {\n",
        "          10: 'Ten',\n",
        "          11: 'Eleven',\n",
        "          12: 'Twelve',\n",
        "          13: 'Thirteen',\n",
        "          14: 'Fourteen',\n",
        "          15: 'Fifteen',\n",
        "          16: 'Sixteen',\n",
        "          17: 'Seventeen',\n",
        "          18: 'Eighteen',\n",
        "          19: 'Nineteen'\n",
        "      }\n",
        "      return switcher.get(num)\n",
        "  \n",
        "  def ten(num):\n",
        "      switcher = {\n",
        "          2: 'Twenty',\n",
        "          3: 'Thirty',\n",
        "          4: 'Forty',\n",
        "          5: 'Fifty',\n",
        "          6: 'Sixty',\n",
        "          7: 'Seventy',\n",
        "          8: 'Eighty',\n",
        "          9: 'Ninety'\n",
        "      }\n",
        "      return switcher.get(num)\n",
        "  \n",
        "\n",
        "  def two(num):\n",
        "      if not num:\n",
        "          return ''\n",
        "      elif num < 10:\n",
        "          return one(num)\n",
        "      elif num < 20:\n",
        "          return two_less_20(num)\n",
        "      else:\n",
        "          tenner = num // 10\n",
        "          rest = num - tenner * 10\n",
        "          return ten(tenner) + ' ' + one(rest) if rest else ten(tenner)\n",
        "  \n",
        "  def three(num):\n",
        "      hundred = num // 100\n",
        "      rest = num - hundred * 100\n",
        "      if hundred and rest:\n",
        "          return one(hundred) + ' Hundred ' + two(rest) \n",
        "      elif not hundred and rest: \n",
        "          return two(rest)\n",
        "      elif hundred and not rest:\n",
        "          return one(hundred) + ' Hundred'\n",
        "  \n",
        "  billion = num // 1000000000\n",
        "  million = (num - billion * 1000000000) // 1000000\n",
        "  thousand = (num - billion * 1000000000 - million * 1000000) // 1000\n",
        "  rest = num - billion * 1000000000 - million * 1000000 - thousand * 1000\n",
        "  \n",
        "  if not num:\n",
        "      return 'Zero'\n",
        "  \n",
        "  result = ''\n",
        "  if billion:        \n",
        "      result = three(billion) + ' Billion'\n",
        "  if million:\n",
        "      result += ' ' if result else ''    \n",
        "      result += three(million) + ' Million'\n",
        "  if thousand:\n",
        "      result += ' ' if result else ''\n",
        "      result += three(thousand) + ' Thousand'\n",
        "  if rest:\n",
        "      result += ' ' if result else ''\n",
        "      result += three(rest)\n",
        "  return result"
      ],
      "execution_count": null,
      "outputs": []
    },
    {
      "cell_type": "code",
      "metadata": {
        "id": "iHfgKeREP37f"
      },
      "source": [
        "## creating a simple dataset with random number of operations(one, two or three operations),\n",
        "## random number (uptil 50000) and random operations\n",
        "def create_simple_dataset(dataset_len = 1000):\n",
        "  ops_dict = {'+':['plus','add'],'-':['minus','subtract'],'*':['multiply','into'],'/':['divide','by']}\n",
        "\n",
        "\n",
        "  nums_dict = {}\n",
        "  \n",
        "  for i in range(50000):\n",
        "    nums_dict[i] = numberToWords(i)\n",
        "  \n",
        "\n",
        "  num_ops = [2,3,4]\n",
        "  nums_dict_keys_list = list(nums_dict.keys())\n",
        "  ops_dict_keys_list = list(ops_dict.keys())\n",
        "\n",
        "  all_input_exps = []\n",
        "  all_target_exps = []\n",
        "  for _ in range(dataset_len):\n",
        "    n_o = random.choice(num_ops)\n",
        "    \n",
        "    nums = []\n",
        "    num_vals = []\n",
        "    for i in range(n_o+1):\n",
        "      nums.append(random.choice(nums_dict_keys_list))\n",
        "      num_vals.append(nums_dict[nums[i]])\n",
        "\n",
        "    ops = []\n",
        "    ops_vals = []\n",
        "    for i in range(n_o):\n",
        "      ops.append(random.choice(ops_dict_keys_list))\n",
        "      ops_vals.append(random.choice(ops_dict[ops[i]]))\n",
        "\n",
        "    target_exp = ' '.join(list(str(nums[0])))\n",
        "    inp_exp = num_vals[0]\n",
        "    for i in range(n_o):\n",
        "      target_exp = target_exp + ' ' + ops[i] + ' ' + ' '.join(list(str(nums[i+1])))\n",
        "      inp_exp = inp_exp + ' ' + ops_vals[i] + ' ' + num_vals[i+1]\n",
        "\n",
        "    all_input_exps.append(inp_exp)\n",
        "    all_target_exps.append(target_exp)\n",
        "\n",
        "  return all_input_exps,all_target_exps"
      ],
      "execution_count": null,
      "outputs": []
    },
    {
      "cell_type": "code",
      "metadata": {
        "id": "HAFyxA0TQgY6"
      },
      "source": [
        "input_exps, target_exps = create_simple_dataset(2000000)"
      ],
      "execution_count": null,
      "outputs": []
    },
    {
      "cell_type": "code",
      "metadata": {
        "id": "GTRQklLBp-YC",
        "colab": {
          "base_uri": "https://localhost:8080/"
        },
        "outputId": "6579f326-56e0-4cd7-89d3-9c6ce2c57c3e"
      },
      "source": [
        "input_exps[:5]"
      ],
      "execution_count": null,
      "outputs": [
        {
          "output_type": "execute_result",
          "data": {
            "text/plain": [
              "['Forty Five Thousand Three Hundred Fourteen multiply Twenty Eight Thousand Nine Hundred Seventy Eight add Twenty Seven Thousand Five Hundred Seventy Five add Twenty Thousand One Hundred Nineteen',\n",
              " 'Twenty Thousand Five Hundred Forty Seven multiply Eleven Thousand Two Hundred Five multiply Three Thousand Two Hundred Twenty Seven multiply Three Thousand Eight Hundred Fifty',\n",
              " 'Twenty Thousand Nine Hundred Two subtract Twenty One Thousand Nine Hundred Forty One divide Forty Seven Thousand Six Hundred Twenty One subtract Twenty Three Thousand Five Hundred Thirty Eight divide Twenty Three Thousand Four Hundred Thirty Nine',\n",
              " 'Four Thousand Sixty Three minus Forty Three Thousand Eighteen divide Nine Thousand Fifty into Nineteen Thousand Eight Hundred Sixty Three into Forty One Thousand Six',\n",
              " 'Forty Three Thousand Eight Hundred Twenty Two plus Forty Seven Thousand Eight Hundred Thirty Nine subtract Forty Thousand One Hundred Sixty Eight divide Fifteen Thousand Four Hundred Twenty Five minus Twenty Six Thousand Three Hundred Eighty Seven']"
            ]
          },
          "metadata": {
            "tags": []
          },
          "execution_count": 10
        }
      ]
    },
    {
      "cell_type": "code",
      "metadata": {
        "id": "O9DL8tD-6iP9",
        "colab": {
          "base_uri": "https://localhost:8080/"
        },
        "outputId": "6363b13c-514f-4d50-fcf2-f8ba6f997d86"
      },
      "source": [
        "target_exps[:5]"
      ],
      "execution_count": null,
      "outputs": [
        {
          "output_type": "execute_result",
          "data": {
            "text/plain": [
              "['4 5 3 1 4 * 2 8 9 7 8 + 2 7 5 7 5 + 2 0 1 1 9',\n",
              " '2 0 5 4 7 * 1 1 2 0 5 * 3 2 2 7 * 3 8 5 0',\n",
              " '2 0 9 0 2 - 2 1 9 4 1 / 4 7 6 2 1 - 2 3 5 3 8 / 2 3 4 3 9',\n",
              " '4 0 6 3 - 4 3 0 1 8 / 9 0 5 0 * 1 9 8 6 3 * 4 1 0 0 6',\n",
              " '4 3 8 2 2 + 4 7 8 3 9 - 4 0 1 6 8 / 1 5 4 2 5 - 2 6 3 8 7']"
            ]
          },
          "metadata": {
            "tags": []
          },
          "execution_count": 12
        }
      ]
    },
    {
      "cell_type": "code",
      "metadata": {
        "id": "VL3-dcn8YMe3",
        "colab": {
          "base_uri": "https://localhost:8080/"
        },
        "outputId": "54a2f5ef-d4c2-48f4-a39c-abb6a2addc36"
      },
      "source": [
        "len(pd.Series(target_exps)), len(pd.Series(target_exps).unique())"
      ],
      "execution_count": null,
      "outputs": [
        {
          "output_type": "execute_result",
          "data": {
            "text/plain": [
              "(2000000, 2000000)"
            ]
          },
          "metadata": {
            "tags": []
          },
          "execution_count": 14
        }
      ]
    },
    {
      "cell_type": "code",
      "metadata": {
        "id": "3vVlLI-hkKHT"
      },
      "source": [
        "data = pd.DataFrame({'Input':input_exps, 'Target':target_exps})"
      ],
      "execution_count": null,
      "outputs": []
    },
    {
      "cell_type": "code",
      "metadata": {
        "id": "bO3UwKJqkPXp"
      },
      "source": [
        "data.to_pickle('data-baseline.pkl')"
      ],
      "execution_count": null,
      "outputs": []
    },
    {
      "cell_type": "markdown",
      "metadata": {
        "id": "p-0vtG7rdZdy"
      },
      "source": [
        "### Preprocessing and Tokenizing the Input and Target exps"
      ]
    },
    {
      "cell_type": "code",
      "metadata": {
        "id": "BtRjHNtUlKG2"
      },
      "source": [
        "with open('data-baseline.pkl', 'rb') as f:\n",
        "  data = pickle.load(f)"
      ],
      "execution_count": null,
      "outputs": []
    },
    {
      "cell_type": "code",
      "metadata": {
        "id": "lQ4_tIumlVWK"
      },
      "source": [
        "input_exps = list(data.Input.values)\n",
        "target_exps = list(data.Target.values)"
      ],
      "execution_count": null,
      "outputs": []
    },
    {
      "cell_type": "code",
      "metadata": {
        "id": "bv7NjOZz62uH",
        "colab": {
          "base_uri": "https://localhost:8080/"
        },
        "outputId": "6267d94a-2a1d-4003-f48b-36a6eb92857c"
      },
      "source": [
        "input_exps[0], target_exps[0]"
      ],
      "execution_count": null,
      "outputs": [
        {
          "output_type": "execute_result",
          "data": {
            "text/plain": [
              "('Forty Five Thousand Three Hundred Fourteen multiply Twenty Eight Thousand Nine Hundred Seventy Eight add Twenty Seven Thousand Five Hundred Seventy Five add Twenty Thousand One Hundred Nineteen',\n",
              " '4 5 3 1 4 * 2 8 9 7 8 + 2 7 5 7 5 + 2 0 1 1 9')"
            ]
          },
          "metadata": {
            "tags": []
          },
          "execution_count": 21
        }
      ]
    },
    {
      "cell_type": "code",
      "metadata": {
        "id": "8yx7HUtFYZri"
      },
      "source": [
        "## right now, only adding start and end token\n",
        "## Can later preprocess more: add spaces before and after punctuations, replace unimp tokens, etc.\n",
        "def preprocess_strings(sentence):\n",
        "  sentence = sentence.lower().strip()\n",
        "  return '<start> ' + sentence + ' <end>'"
      ],
      "execution_count": null,
      "outputs": []
    },
    {
      "cell_type": "code",
      "metadata": {
        "id": "lEAS9242ZUT6"
      },
      "source": [
        "preprocessed_input_exps = list(map(preprocess_strings, input_exps))\n",
        "preprocessed_target_exps = list(map(preprocess_strings, target_exps))"
      ],
      "execution_count": null,
      "outputs": []
    },
    {
      "cell_type": "code",
      "metadata": {
        "id": "aKhkEBsfbJaN"
      },
      "source": [
        "def tokenize(lang):\n",
        "  lang_tokenizer = tf.keras.preprocessing.text.Tokenizer(filters='')\n",
        "  lang_tokenizer.fit_on_texts(lang)\n",
        "  tensor = lang_tokenizer.texts_to_sequences(lang)\n",
        "  tensor = tf.keras.preprocessing.sequence.pad_sequences(tensor, padding='post')\n",
        "\n",
        "  return tensor, lang_tokenizer"
      ],
      "execution_count": null,
      "outputs": []
    },
    {
      "cell_type": "code",
      "metadata": {
        "id": "GL_eLZZAbsHJ"
      },
      "source": [
        "input_tensor, inp_lang_tokenizer = tokenize(preprocessed_input_exps)"
      ],
      "execution_count": null,
      "outputs": []
    },
    {
      "cell_type": "code",
      "metadata": {
        "id": "fI2k73bDceJ_",
        "colab": {
          "base_uri": "https://localhost:8080/",
          "height": 34
        },
        "outputId": "30075035-e76a-49e6-93f0-59237ad9c344"
      },
      "source": [
        "len(inp_lang_tokenizer.word_index)"
      ],
      "execution_count": null,
      "outputs": [
        {
          "output_type": "execute_result",
          "data": {
            "text/plain": [
              "40"
            ]
          },
          "metadata": {
            "tags": []
          },
          "execution_count": 12
        }
      ]
    },
    {
      "cell_type": "code",
      "metadata": {
        "id": "ciyWH2a_b4gx",
        "colab": {
          "base_uri": "https://localhost:8080/"
        },
        "outputId": "8d041d9f-ddcb-4b72-ce12-6abe93dce52b"
      },
      "source": [
        "input_tensor"
      ],
      "execution_count": null,
      "outputs": [
        {
          "output_type": "execute_result",
          "data": {
            "text/plain": [
              "array([[15,  3, 13, ...,  0,  0,  0],\n",
              "       [15,  4,  1, ...,  0,  0,  0],\n",
              "       [15,  4,  1, ..., 16,  0,  0],\n",
              "       ...,\n",
              "       [15, 13,  1, ...,  0,  0,  0],\n",
              "       [15,  4,  6, ...,  0,  0,  0],\n",
              "       [15,  5,  1, ...,  0,  0,  0]], dtype=int32)"
            ]
          },
          "metadata": {
            "tags": []
          },
          "execution_count": 27
        }
      ]
    },
    {
      "cell_type": "code",
      "metadata": {
        "id": "sVIuwYu9b7fH"
      },
      "source": [
        "target_tensor, targ_lang_tokenizer = tokenize(preprocessed_target_exps)"
      ],
      "execution_count": null,
      "outputs": []
    },
    {
      "cell_type": "code",
      "metadata": {
        "id": "8bpeONmscRzr",
        "colab": {
          "base_uri": "https://localhost:8080/",
          "height": 34
        },
        "outputId": "36ddc2af-eea3-4ec7-fc77-7005505c64e4"
      },
      "source": [
        "len(targ_lang_tokenizer.word_index)"
      ],
      "execution_count": null,
      "outputs": [
        {
          "output_type": "execute_result",
          "data": {
            "text/plain": [
              "16"
            ]
          },
          "metadata": {
            "tags": []
          },
          "execution_count": 15
        }
      ]
    },
    {
      "cell_type": "code",
      "metadata": {
        "id": "QkFWp965cHbt",
        "colab": {
          "base_uri": "https://localhost:8080/"
        },
        "outputId": "6bd22805-0053-4100-f29d-a2b467603ecd"
      },
      "source": [
        "target_tensor"
      ],
      "execution_count": null,
      "outputs": [
        {
          "output_type": "execute_result",
          "data": {
            "text/plain": [
              "array([[11,  1,  9, ...,  0,  0,  0],\n",
              "       [11,  2, 10, ...,  0,  0,  0],\n",
              "       [11,  2, 10, ...,  3,  8, 12],\n",
              "       ...,\n",
              "       [11,  9,  4, ..., 12,  0,  0],\n",
              "       [11,  2,  3, ...,  0,  0,  0],\n",
              "       [11,  3, 10, ...,  2,  5, 12]], dtype=int32)"
            ]
          },
          "metadata": {
            "tags": []
          },
          "execution_count": 29
        }
      ]
    },
    {
      "cell_type": "markdown",
      "metadata": {
        "id": "lWKtDz1pdV11"
      },
      "source": [
        "### Create a tf.data dataset"
      ]
    },
    {
      "cell_type": "code",
      "metadata": {
        "id": "LWn3alPwcIMw"
      },
      "source": [
        "# Creating training and validation sets\n",
        "input_tensor_train, input_tensor_val, target_tensor_train, target_tensor_val = train_test_split(input_tensor, target_tensor, test_size=0.01, random_state=42)"
      ],
      "execution_count": null,
      "outputs": []
    },
    {
      "cell_type": "code",
      "metadata": {
        "id": "JkvMMb7NUG1l",
        "colab": {
          "base_uri": "https://localhost:8080/"
        },
        "outputId": "fd53160e-7bbd-4609-b68c-c28226d3f926"
      },
      "source": [
        "len(input_tensor_train)"
      ],
      "execution_count": null,
      "outputs": [
        {
          "output_type": "execute_result",
          "data": {
            "text/plain": [
              "1980000"
            ]
          },
          "metadata": {
            "tags": []
          },
          "execution_count": 31
        }
      ]
    },
    {
      "cell_type": "code",
      "metadata": {
        "id": "X8VnUqe9UE9P",
        "colab": {
          "base_uri": "https://localhost:8080/"
        },
        "outputId": "9da82ac3-9a55-45d7-fb44-57d8e2700375"
      },
      "source": [
        "len(input_tensor_val)"
      ],
      "execution_count": null,
      "outputs": [
        {
          "output_type": "execute_result",
          "data": {
            "text/plain": [
              "20000"
            ]
          },
          "metadata": {
            "tags": []
          },
          "execution_count": 32
        }
      ]
    },
    {
      "cell_type": "code",
      "metadata": {
        "id": "BFxzn930dDNs"
      },
      "source": [
        "BUFFER_SIZE = len(input_tensor_train)\n",
        "BATCH_SIZE = 512\n",
        "steps_per_epoch = len(input_tensor_train)//BATCH_SIZE\n",
        "embedding_dim = 64\n",
        "units = 256\n",
        "vocab_inp_size = len(inp_lang_tokenizer.word_index)+1\n",
        "vocab_tar_size = len(targ_lang_tokenizer.word_index)+1\n",
        "\n",
        "dataset = tf.data.Dataset.from_tensor_slices((input_tensor_train, target_tensor_train)).shuffle(BUFFER_SIZE)\n",
        "dataset = dataset.batch(BATCH_SIZE, drop_remainder=True)"
      ],
      "execution_count": null,
      "outputs": []
    },
    {
      "cell_type": "code",
      "metadata": {
        "id": "TpWhdlGQeQzB",
        "colab": {
          "base_uri": "https://localhost:8080/"
        },
        "outputId": "d7d6c65c-cd47-422e-9004-ae6e616fb530"
      },
      "source": [
        "vocab_inp_size, vocab_tar_size"
      ],
      "execution_count": null,
      "outputs": [
        {
          "output_type": "execute_result",
          "data": {
            "text/plain": [
              "(41, 17)"
            ]
          },
          "metadata": {
            "tags": []
          },
          "execution_count": 34
        }
      ]
    },
    {
      "cell_type": "code",
      "metadata": {
        "id": "6BnLEanaeNOX",
        "colab": {
          "base_uri": "https://localhost:8080/"
        },
        "outputId": "659a8074-2339-4aab-887e-459af33fd27e"
      },
      "source": [
        "example_input_batch, example_target_batch = next(iter(dataset))\n",
        "example_input_batch.shape, example_target_batch.shape"
      ],
      "execution_count": null,
      "outputs": [
        {
          "output_type": "execute_result",
          "data": {
            "text/plain": [
              "(TensorShape([512, 41]), TensorShape([512, 31]))"
            ]
          },
          "metadata": {
            "tags": []
          },
          "execution_count": 35
        }
      ]
    },
    {
      "cell_type": "markdown",
      "metadata": {
        "id": "CuneDtDufIAe"
      },
      "source": [
        "### Encoder Decoder Model"
      ]
    },
    {
      "cell_type": "code",
      "metadata": {
        "id": "Pe6XY6NGewke"
      },
      "source": [
        "class Encoder(tf.keras.Model):\n",
        "  def __init__(self, vocab_size, embedding_dim, enc_units, batch_sz):\n",
        "    super(Encoder, self).__init__()\n",
        "    self.batch_sz = batch_sz\n",
        "    self.enc_units = enc_units\n",
        "    self.embedding = tf.keras.layers.Embedding(vocab_size, embedding_dim)\n",
        "    self.gru = tf.keras.layers.GRU(self.enc_units,\n",
        "                                   return_sequences=True,\n",
        "                                   return_state=True,\n",
        "                                   recurrent_initializer='glorot_uniform')\n",
        "\n",
        "  def call(self, x, hidden):\n",
        "    x = self.embedding(x)\n",
        "    output, state = self.gru(x, initial_state = hidden)\n",
        "    return output, state\n",
        "\n",
        "  def initialize_hidden_state(self):\n",
        "    return tf.zeros((self.batch_sz, self.enc_units))"
      ],
      "execution_count": null,
      "outputs": []
    },
    {
      "cell_type": "code",
      "metadata": {
        "id": "buE9VlnSjBYS",
        "colab": {
          "base_uri": "https://localhost:8080/"
        },
        "outputId": "6e28c6f9-f296-4bde-db6c-d2c82378ad62"
      },
      "source": [
        "encoder = Encoder(vocab_inp_size, embedding_dim, units, BATCH_SIZE)\n",
        "\n",
        "# sample input\n",
        "sample_hidden = encoder.initialize_hidden_state()\n",
        "sample_output, sample_hidden = encoder(example_input_batch, sample_hidden)\n",
        "print ('Encoder output shape: (batch size, sequence length, units) {}'.format(sample_output.shape))\n",
        "print ('Encoder Hidden state shape: (batch size, units) {}'.format(sample_hidden.shape))"
      ],
      "execution_count": null,
      "outputs": [
        {
          "output_type": "stream",
          "text": [
            "Encoder output shape: (batch size, sequence length, units) (512, 41, 256)\n",
            "Encoder Hidden state shape: (batch size, units) (512, 256)\n"
          ],
          "name": "stdout"
        }
      ]
    },
    {
      "cell_type": "code",
      "metadata": {
        "id": "WtrkdaXIkTaS"
      },
      "source": [
        "class BahdanauAttention(tf.keras.layers.Layer):\n",
        "  def __init__(self, units):\n",
        "    super(BahdanauAttention, self).__init__()\n",
        "    self.W1 = tf.keras.layers.Dense(units)\n",
        "    self.W2 = tf.keras.layers.Dense(units)\n",
        "    self.V = tf.keras.layers.Dense(1)\n",
        "\n",
        "  def call(self, query, values):\n",
        "    # hidden shape == (batch_size, hidden size)\n",
        "    # hidden_with_time_axis shape == (batch_size, 1, hidden size)\n",
        "    # we are doing this to perform addition to calculate the score\n",
        "    hidden_with_time_axis = tf.expand_dims(query, 1)\n",
        "\n",
        "    # score shape == (batch_size, max_length, 1)\n",
        "    # we get 1 at the last axis because we are applying score to self.V\n",
        "    # the shape of the tensor before applying self.V is (batch_size, max_length, units)\n",
        "    score = self.V(tf.nn.tanh(\n",
        "        self.W1(values) + self.W2(hidden_with_time_axis)))\n",
        "\n",
        "    # attention_weights shape == (batch_size, max_length, 1)\n",
        "    attention_weights = tf.nn.softmax(score, axis=1)\n",
        "\n",
        "    # context_vector shape after sum == (batch_size, hidden_size)\n",
        "    context_vector = attention_weights * values\n",
        "    context_vector = tf.reduce_sum(context_vector, axis=1)\n",
        "\n",
        "    return context_vector, attention_weights"
      ],
      "execution_count": null,
      "outputs": []
    },
    {
      "cell_type": "code",
      "metadata": {
        "id": "2DhdGtYxoC_y",
        "colab": {
          "base_uri": "https://localhost:8080/"
        },
        "outputId": "5d470182-d9c8-4399-fe28-459de55c7cce"
      },
      "source": [
        "attention_layer = BahdanauAttention(100)\n",
        "attention_result, attention_weights = attention_layer(sample_hidden, sample_output)\n",
        "\n",
        "print(\"Attention result shape: (batch size, units) {}\".format(attention_result.shape))\n",
        "print(\"Attention weights shape: (batch_size, sequence_length, 1) {}\".format(attention_weights.shape))"
      ],
      "execution_count": null,
      "outputs": [
        {
          "output_type": "stream",
          "text": [
            "Attention result shape: (batch size, units) (512, 256)\n",
            "Attention weights shape: (batch_size, sequence_length, 1) (512, 41, 1)\n"
          ],
          "name": "stdout"
        }
      ]
    },
    {
      "cell_type": "code",
      "metadata": {
        "id": "c-DyZg30oC9H"
      },
      "source": [
        "class Decoder(tf.keras.Model):\n",
        "  def __init__(self, vocab_size, embedding_dim, dec_units, batch_sz):\n",
        "    super(Decoder, self).__init__()\n",
        "    self.batch_sz = batch_sz\n",
        "    self.dec_units = dec_units\n",
        "    self.embedding = tf.keras.layers.Embedding(vocab_size, embedding_dim)\n",
        "    self.gru = tf.keras.layers.GRU(self.dec_units,\n",
        "                                   return_sequences=True,\n",
        "                                   return_state=True,\n",
        "                                   recurrent_initializer='glorot_uniform')\n",
        "    self.fc = tf.keras.layers.Dense(vocab_size)\n",
        "\n",
        "    # used for attention\n",
        "    self.attention = BahdanauAttention(self.dec_units)\n",
        "\n",
        "  def call(self, x, hidden, enc_output):\n",
        "    # enc_output shape == (batch_size, max_length, hidden_size)\n",
        "    context_vector, attention_weights = self.attention(hidden, enc_output)\n",
        "\n",
        "    # x shape after passing through embedding == (batch_size, 1, embedding_dim)\n",
        "    x = self.embedding(x)\n",
        "\n",
        "    # x shape after concatenation == (batch_size, 1, embedding_dim + hidden_size)\n",
        "    x = tf.concat([tf.expand_dims(context_vector, 1), x], axis=-1)\n",
        "\n",
        "    # passing the concatenated vector to the GRU\n",
        "    output, state = self.gru(x)\n",
        "\n",
        "    # output shape == (batch_size * 1, hidden_size)\n",
        "    output = tf.reshape(output, (-1, output.shape[2]))\n",
        "\n",
        "    # output shape == (batch_size, vocab)\n",
        "    x = self.fc(output)\n",
        "\n",
        "    return x, state, attention_weights"
      ],
      "execution_count": null,
      "outputs": []
    },
    {
      "cell_type": "code",
      "metadata": {
        "id": "DUO4H1W3oC6n",
        "colab": {
          "base_uri": "https://localhost:8080/"
        },
        "outputId": "55d7201a-adf6-4731-84ff-b1425ed7efec"
      },
      "source": [
        "decoder = Decoder(vocab_tar_size, embedding_dim, units, BATCH_SIZE)\n",
        "\n",
        "sample_decoder_output, _, _ = decoder(tf.random.uniform((BATCH_SIZE, 1)),\n",
        "                                      sample_hidden, sample_output)\n",
        "\n",
        "print ('Decoder output shape: (batch_size, vocab size) {}'.format(sample_decoder_output.shape))"
      ],
      "execution_count": null,
      "outputs": [
        {
          "output_type": "stream",
          "text": [
            "Decoder output shape: (batch_size, vocab size) (512, 17)\n"
          ],
          "name": "stdout"
        }
      ]
    },
    {
      "cell_type": "code",
      "metadata": {
        "id": "y3OrLXr3oCSY",
        "colab": {
          "base_uri": "https://localhost:8080/"
        },
        "outputId": "ee7aa8b7-ea5e-4c87-b115-870344e781cd"
      },
      "source": [
        "sample_hidden.shape"
      ],
      "execution_count": null,
      "outputs": [
        {
          "output_type": "execute_result",
          "data": {
            "text/plain": [
              "TensorShape([512, 256])"
            ]
          },
          "metadata": {
            "tags": []
          },
          "execution_count": 42
        }
      ]
    },
    {
      "cell_type": "code",
      "metadata": {
        "id": "f9-Wv1eHoCNO"
      },
      "source": [
        "optimizer = tf.keras.optimizers.Adam(lr=0.001)\n",
        "loss_object = tf.keras.losses.SparseCategoricalCrossentropy(\n",
        "    from_logits=True, reduction='none')\n",
        "\n",
        "def loss_function(real, pred):\n",
        "  mask = tf.math.logical_not(tf.math.equal(real, 0))\n",
        "  loss_ = loss_object(real, pred)\n",
        "\n",
        "  mask = tf.cast(mask, dtype=loss_.dtype)\n",
        "  loss_ *= mask\n",
        "\n",
        "  return tf.reduce_mean(loss_)"
      ],
      "execution_count": null,
      "outputs": []
    },
    {
      "cell_type": "markdown",
      "metadata": {
        "id": "bWpq1TQftedU"
      },
      "source": [
        "### Checkpoints"
      ]
    },
    {
      "cell_type": "code",
      "metadata": {
        "id": "dxmuOCEuyrj7"
      },
      "source": [
        "# !rm -r /gdrive/My\\ Drive/checkpoints/ADL\\ Project/training_checkpoints/aashna_baseline"
      ],
      "execution_count": null,
      "outputs": []
    },
    {
      "cell_type": "code",
      "metadata": {
        "id": "qMDyLmwNJEr7",
        "colab": {
          "base_uri": "https://localhost:8080/"
        },
        "outputId": "68a09fa9-833f-401b-f668-b02e62a24a9e"
      },
      "source": [
        "checkpoint_dir = os.path.join(drive_root, \"checkpoints\")\n",
        "checkpoint_dir = os.path.join(checkpoint_dir, \"ADL Project/training_checkpoints/aashna_baseline\")\n",
        "\n",
        "print(\"Checkpoints directory is\", checkpoint_dir)\n",
        "if os.path.exists(checkpoint_dir):\n",
        "  print(\"Checkpoints folder already exists\")\n",
        "else:\n",
        "  print(\"Creating a checkpoints directory\")\n",
        "  os.makedirs(checkpoint_dir)\n",
        "\n",
        "checkpoint_prefix = os.path.join(checkpoint_dir, \"ckpt\")\n",
        "checkpoint = tf.train.Checkpoint(optimizer=optimizer,\n",
        "                                 encoder=encoder,\n",
        "                                 decoder=decoder)"
      ],
      "execution_count": null,
      "outputs": [
        {
          "output_type": "stream",
          "text": [
            "Checkpoints directory is /gdrive/My Drive/checkpoints/ADL Project/training_checkpoints/aashna_baseline\n",
            "Creating a checkpoints directory\n"
          ],
          "name": "stdout"
        }
      ]
    },
    {
      "cell_type": "code",
      "metadata": {
        "id": "DFpsWcR-uVIi"
      },
      "source": [
        "latest = tf.train.latest_checkpoint(checkpoint_dir)"
      ],
      "execution_count": null,
      "outputs": []
    },
    {
      "cell_type": "code",
      "metadata": {
        "id": "busbpqF8wT02"
      },
      "source": [
        "latest"
      ],
      "execution_count": null,
      "outputs": []
    },
    {
      "cell_type": "code",
      "metadata": {
        "id": "xh8zrJl0uWoM"
      },
      "source": [
        "if latest:\n",
        "  epoch_num = int(latest.split('/')[-1].split('-')[-1])\n",
        "  checkpoint.restore(latest)\n",
        "else:\n",
        "  epoch_num = 0"
      ],
      "execution_count": null,
      "outputs": []
    },
    {
      "cell_type": "code",
      "metadata": {
        "id": "zVHRFQuswBET",
        "colab": {
          "base_uri": "https://localhost:8080/"
        },
        "outputId": "28254e3e-3881-4bf1-c640-991da37ffdb5"
      },
      "source": [
        "epoch_num"
      ],
      "execution_count": null,
      "outputs": [
        {
          "output_type": "execute_result",
          "data": {
            "text/plain": [
              "0"
            ]
          },
          "metadata": {
            "tags": []
          },
          "execution_count": 49
        }
      ]
    },
    {
      "cell_type": "markdown",
      "metadata": {
        "id": "QVFK-PEhKWcL"
      },
      "source": [
        "### Training"
      ]
    },
    {
      "cell_type": "code",
      "metadata": {
        "id": "b3ZFzAVCKLfp"
      },
      "source": [
        "@tf.function\n",
        "def train_step(inp, targ, enc_hidden):\n",
        "  loss = 0\n",
        "\n",
        "  with tf.GradientTape() as tape:\n",
        "    enc_output, enc_hidden = encoder(inp, enc_hidden)\n",
        "\n",
        "    dec_hidden = enc_hidden\n",
        "\n",
        "    dec_input = tf.expand_dims([targ_lang_tokenizer.word_index['<start>']] * BATCH_SIZE, 1)\n",
        "\n",
        "    for t in range(1, targ.shape[1]):\n",
        "      # passing enc_output to the decoder\n",
        "      predictions, dec_hidden, _ = decoder(dec_input, dec_hidden, enc_output)\n",
        "\n",
        "      loss += loss_function(targ[:, t], predictions)\n",
        "\n",
        "      # using teacher forcing\n",
        "      dec_input = tf.expand_dims(targ[:, t], 1)\n",
        "\n",
        "  batch_loss = (loss / int(targ.shape[1]))\n",
        "\n",
        "  variables = encoder.trainable_variables + decoder.trainable_variables\n",
        "\n",
        "  gradients = tape.gradient(loss, variables)\n",
        "\n",
        "  optimizer.apply_gradients(zip(gradients, variables))\n",
        "\n",
        "  return batch_loss"
      ],
      "execution_count": null,
      "outputs": []
    },
    {
      "cell_type": "code",
      "metadata": {
        "id": "67qb5rLOKLXz",
        "colab": {
          "base_uri": "https://localhost:8080/"
        },
        "outputId": "622a8d7e-c438-41e2-f1fb-4406253891c0"
      },
      "source": [
        "EPOCHS = 5\n",
        "\n",
        "for epoch in range(epoch_num, EPOCHS):\n",
        "  start = time.time()\n",
        "\n",
        "  enc_hidden = encoder.initialize_hidden_state()\n",
        "  total_loss = 0\n",
        "\n",
        "  for (batch, (inp, targ)) in enumerate(dataset.take(steps_per_epoch)):\n",
        "    batch_loss = train_step(inp, targ, enc_hidden)\n",
        "    total_loss += batch_loss\n",
        "\n",
        "    if batch % 100 == 0:\n",
        "        print('Epoch {} Batch {} Loss {:.4f}'.format(epoch + 1,\n",
        "                                                     batch,\n",
        "                                                     batch_loss.numpy()))\n",
        "  checkpoint.save(file_prefix = checkpoint_prefix)\n",
        "  print('Saved epoch: {}'.format(epoch+1))\n",
        "\n",
        "  print('Epoch {} Loss {:.4f}'.format(epoch + 1,\n",
        "                                      total_loss / steps_per_epoch))\n",
        "  print('Time taken for 1 epoch {} sec\\n'.format(time.time() - start))"
      ],
      "execution_count": null,
      "outputs": [
        {
          "output_type": "stream",
          "text": [
            "Epoch 1 Batch 0 Loss 2.1072\n",
            "Epoch 1 Batch 100 Loss 1.8656\n",
            "Epoch 1 Batch 200 Loss 1.6784\n",
            "Epoch 1 Batch 300 Loss 1.6256\n",
            "Epoch 1 Batch 400 Loss 1.5911\n",
            "Epoch 1 Batch 500 Loss 1.5197\n",
            "Epoch 1 Batch 600 Loss 1.5321\n",
            "Epoch 1 Batch 700 Loss 1.5338\n",
            "Epoch 1 Batch 800 Loss 1.4949\n",
            "Epoch 1 Batch 900 Loss 1.4398\n",
            "Epoch 1 Batch 1000 Loss 1.2666\n",
            "Epoch 1 Batch 1100 Loss 0.9607\n",
            "Epoch 1 Batch 1200 Loss 0.5605\n",
            "Epoch 1 Batch 1300 Loss 0.3952\n",
            "Epoch 1 Batch 1400 Loss 0.2200\n",
            "Epoch 1 Batch 1500 Loss 0.3344\n",
            "Epoch 1 Batch 1600 Loss 0.1757\n",
            "Epoch 1 Batch 1700 Loss 0.1252\n",
            "Epoch 1 Batch 1800 Loss 0.0456\n",
            "Epoch 1 Batch 1900 Loss 0.0214\n",
            "Epoch 1 Batch 2000 Loss 0.0134\n",
            "Epoch 1 Batch 2100 Loss 0.0102\n",
            "Epoch 1 Batch 2200 Loss 0.0065\n",
            "Epoch 1 Batch 2300 Loss 0.0053\n",
            "Epoch 1 Batch 2400 Loss 0.0077\n",
            "Epoch 1 Batch 2500 Loss 0.0050\n",
            "Epoch 1 Batch 2600 Loss 2.7249\n",
            "Epoch 1 Batch 2700 Loss 1.0609\n",
            "Epoch 1 Batch 2800 Loss 0.5009\n",
            "Epoch 1 Batch 2900 Loss 0.0524\n",
            "Epoch 1 Batch 3000 Loss 0.0159\n",
            "Epoch 1 Batch 3100 Loss 0.0118\n",
            "Epoch 1 Batch 3200 Loss 0.0076\n",
            "Epoch 1 Batch 3300 Loss 0.0053\n",
            "Epoch 1 Batch 3400 Loss 0.0041\n",
            "Epoch 1 Batch 3500 Loss 0.0035\n",
            "Epoch 1 Batch 3600 Loss 0.0022\n",
            "Epoch 1 Batch 3700 Loss 0.0016\n",
            "Epoch 1 Batch 3800 Loss 0.0018\n",
            "Saved epoch: 1\n",
            "Epoch 1 Loss 0.5957\n",
            "Time taken for 1 epoch 558.5626049041748 sec\n",
            "\n",
            "Epoch 2 Batch 0 Loss 0.0052\n",
            "Epoch 2 Batch 100 Loss 0.0015\n",
            "Epoch 2 Batch 200 Loss 0.0021\n",
            "Epoch 2 Batch 300 Loss 0.0009\n",
            "Epoch 2 Batch 400 Loss 0.0009\n",
            "Epoch 2 Batch 500 Loss 0.0008\n",
            "Epoch 2 Batch 600 Loss 0.0008\n",
            "Epoch 2 Batch 700 Loss 0.0006\n",
            "Epoch 2 Batch 800 Loss 0.0008\n",
            "Epoch 2 Batch 900 Loss 0.0007\n",
            "Epoch 2 Batch 1000 Loss 0.0006\n",
            "Epoch 2 Batch 1100 Loss 0.0014\n",
            "Epoch 2 Batch 1200 Loss 0.0006\n",
            "Epoch 2 Batch 1300 Loss 0.0006\n",
            "Epoch 2 Batch 1400 Loss 0.0004\n",
            "Epoch 2 Batch 1500 Loss 0.0003\n",
            "Epoch 2 Batch 1600 Loss 0.0003\n",
            "Epoch 2 Batch 1700 Loss 0.0007\n",
            "Epoch 2 Batch 1800 Loss 0.0003\n",
            "Epoch 2 Batch 1900 Loss 0.0003\n",
            "Epoch 2 Batch 2000 Loss 0.0002\n",
            "Epoch 2 Batch 2100 Loss 0.0007\n",
            "Epoch 2 Batch 2200 Loss 0.0003\n",
            "Epoch 2 Batch 2300 Loss 0.0002\n",
            "Epoch 2 Batch 2400 Loss 0.0003\n",
            "Epoch 2 Batch 2500 Loss 0.0002\n",
            "Epoch 2 Batch 2600 Loss 0.0002\n",
            "Epoch 2 Batch 2700 Loss 0.0003\n",
            "Epoch 2 Batch 2800 Loss 0.0002\n",
            "Epoch 2 Batch 2900 Loss 0.0001\n",
            "Epoch 2 Batch 3000 Loss 0.0001\n",
            "Epoch 2 Batch 3100 Loss 0.0001\n",
            "Epoch 2 Batch 3200 Loss 0.0001\n",
            "Epoch 2 Batch 3300 Loss 0.0001\n",
            "Epoch 2 Batch 3400 Loss 0.0001\n",
            "Epoch 2 Batch 3500 Loss 0.0001\n",
            "Epoch 2 Batch 3600 Loss 0.0001\n",
            "Epoch 2 Batch 3700 Loss 0.0001\n",
            "Epoch 2 Batch 3800 Loss 0.0001\n",
            "Saved epoch: 2\n",
            "Epoch 2 Loss 0.0007\n",
            "Time taken for 1 epoch 529.1878895759583 sec\n",
            "\n",
            "Epoch 3 Batch 0 Loss 0.0280\n",
            "Epoch 3 Batch 100 Loss 1.5292\n",
            "Epoch 3 Batch 200 Loss 1.3241\n",
            "Epoch 3 Batch 300 Loss 0.5993\n",
            "Epoch 3 Batch 400 Loss 0.2223\n",
            "Epoch 3 Batch 500 Loss 0.1009\n",
            "Epoch 3 Batch 600 Loss 0.0268\n",
            "Epoch 3 Batch 700 Loss 0.0160\n",
            "Epoch 3 Batch 800 Loss 0.0216\n",
            "Epoch 3 Batch 900 Loss 0.0158\n",
            "Epoch 3 Batch 1000 Loss 0.0118\n",
            "Epoch 3 Batch 1100 Loss 0.0095\n",
            "Epoch 3 Batch 1200 Loss 0.0107\n",
            "Epoch 3 Batch 1300 Loss 0.0085\n",
            "Epoch 3 Batch 1400 Loss 0.0065\n",
            "Epoch 3 Batch 1500 Loss 0.0079\n",
            "Epoch 3 Batch 1600 Loss 0.0061\n",
            "Epoch 3 Batch 1700 Loss 0.0043\n",
            "Epoch 3 Batch 1800 Loss 0.0053\n",
            "Epoch 3 Batch 1900 Loss 0.0038\n",
            "Epoch 3 Batch 2000 Loss 0.0020\n",
            "Epoch 3 Batch 2100 Loss 0.0014\n",
            "Epoch 3 Batch 2200 Loss 0.0011\n",
            "Epoch 3 Batch 2300 Loss 0.0012\n",
            "Epoch 3 Batch 2400 Loss 0.0011\n",
            "Epoch 3 Batch 2500 Loss 0.0006\n",
            "Epoch 3 Batch 2600 Loss 0.0010\n",
            "Epoch 3 Batch 2700 Loss 0.0005\n",
            "Epoch 3 Batch 2800 Loss 0.0005\n",
            "Epoch 3 Batch 2900 Loss 0.0004\n",
            "Epoch 3 Batch 3000 Loss 0.0003\n",
            "Epoch 3 Batch 3100 Loss 0.0002\n",
            "Epoch 3 Batch 3200 Loss 0.0003\n",
            "Epoch 3 Batch 3300 Loss 0.0002\n",
            "Epoch 3 Batch 3400 Loss 0.0002\n",
            "Epoch 3 Batch 3500 Loss 0.0003\n",
            "Epoch 3 Batch 3600 Loss 0.8174\n",
            "Epoch 3 Batch 3700 Loss 0.0304\n",
            "Epoch 3 Batch 3800 Loss 0.0118\n",
            "Saved epoch: 3\n",
            "Epoch 3 Loss 0.1555\n",
            "Time taken for 1 epoch 529.1130187511444 sec\n",
            "\n",
            "Epoch 4 Batch 0 Loss 0.0103\n",
            "Epoch 4 Batch 100 Loss 0.0077\n",
            "Epoch 4 Batch 200 Loss 0.0101\n",
            "Epoch 4 Batch 300 Loss 0.0078\n",
            "Epoch 4 Batch 400 Loss 0.0038\n",
            "Epoch 4 Batch 500 Loss 0.0037\n",
            "Epoch 4 Batch 600 Loss 0.0020\n",
            "Epoch 4 Batch 700 Loss 0.0051\n",
            "Epoch 4 Batch 800 Loss 0.0019\n",
            "Epoch 4 Batch 900 Loss 0.0017\n",
            "Epoch 4 Batch 1000 Loss 0.0684\n",
            "Epoch 4 Batch 1100 Loss 0.0143\n",
            "Epoch 4 Batch 1200 Loss 0.0093\n",
            "Epoch 4 Batch 1300 Loss 0.0122\n",
            "Epoch 4 Batch 1400 Loss 0.0054\n",
            "Epoch 4 Batch 1500 Loss 0.0035\n",
            "Epoch 4 Batch 1600 Loss 0.0021\n",
            "Epoch 4 Batch 1700 Loss 0.0015\n",
            "Epoch 4 Batch 1800 Loss 0.0012\n",
            "Epoch 4 Batch 1900 Loss 0.0008\n",
            "Epoch 4 Batch 2000 Loss 0.0009\n",
            "Epoch 4 Batch 2100 Loss 0.0011\n",
            "Epoch 4 Batch 2200 Loss 0.0005\n",
            "Epoch 4 Batch 2300 Loss 0.0009\n",
            "Epoch 4 Batch 2400 Loss 0.0009\n",
            "Epoch 4 Batch 2500 Loss 0.0013\n",
            "Epoch 4 Batch 2600 Loss 0.0007\n",
            "Epoch 4 Batch 2700 Loss 0.0003\n",
            "Epoch 4 Batch 2800 Loss 0.0003\n",
            "Epoch 4 Batch 2900 Loss 0.0003\n",
            "Epoch 4 Batch 3000 Loss 0.0002\n",
            "Epoch 4 Batch 3100 Loss 0.0003\n",
            "Epoch 4 Batch 3200 Loss 0.0002\n",
            "Epoch 4 Batch 3300 Loss 0.0002\n",
            "Epoch 4 Batch 3400 Loss 0.0002\n",
            "Epoch 4 Batch 3500 Loss 0.0001\n",
            "Epoch 4 Batch 3600 Loss 0.0001\n",
            "Epoch 4 Batch 3700 Loss 0.0001\n",
            "Epoch 4 Batch 3800 Loss 0.0002\n",
            "Saved epoch: 4\n",
            "Epoch 4 Loss 0.0119\n",
            "Time taken for 1 epoch 529.0572624206543 sec\n",
            "\n",
            "Epoch 5 Batch 0 Loss 0.0001\n",
            "Epoch 5 Batch 100 Loss 0.0003\n",
            "Epoch 5 Batch 200 Loss 0.0001\n",
            "Epoch 5 Batch 300 Loss 0.0001\n",
            "Epoch 5 Batch 400 Loss 0.0001\n",
            "Epoch 5 Batch 500 Loss 0.0001\n",
            "Epoch 5 Batch 600 Loss 0.0001\n",
            "Epoch 5 Batch 700 Loss 0.0001\n",
            "Epoch 5 Batch 800 Loss 0.0116\n",
            "Epoch 5 Batch 900 Loss 0.0024\n",
            "Epoch 5 Batch 1000 Loss 0.0011\n",
            "Epoch 5 Batch 1100 Loss 0.0007\n",
            "Epoch 5 Batch 1200 Loss 0.0004\n",
            "Epoch 5 Batch 1300 Loss 0.0005\n",
            "Epoch 5 Batch 1400 Loss 0.0003\n",
            "Epoch 5 Batch 1500 Loss 0.0003\n",
            "Epoch 5 Batch 1600 Loss 0.0003\n",
            "Epoch 5 Batch 1700 Loss 0.0002\n",
            "Epoch 5 Batch 1800 Loss 0.0001\n",
            "Epoch 5 Batch 1900 Loss 0.0001\n",
            "Epoch 5 Batch 2000 Loss 0.0002\n",
            "Epoch 5 Batch 2100 Loss 0.0001\n",
            "Epoch 5 Batch 2200 Loss 0.0004\n",
            "Epoch 5 Batch 2300 Loss 0.0001\n",
            "Epoch 5 Batch 2400 Loss 0.0001\n",
            "Epoch 5 Batch 2500 Loss 0.0001\n",
            "Epoch 5 Batch 2600 Loss 0.0001\n",
            "Epoch 5 Batch 2700 Loss 0.0001\n",
            "Epoch 5 Batch 2800 Loss 0.0001\n",
            "Epoch 5 Batch 2900 Loss 0.0000\n",
            "Epoch 5 Batch 3000 Loss 0.0001\n",
            "Epoch 5 Batch 3100 Loss 0.0000\n",
            "Epoch 5 Batch 3200 Loss 0.0000\n",
            "Epoch 5 Batch 3300 Loss 0.0000\n",
            "Epoch 5 Batch 3400 Loss 0.0000\n",
            "Epoch 5 Batch 3500 Loss 0.0001\n",
            "Epoch 5 Batch 3600 Loss 0.0000\n",
            "Epoch 5 Batch 3700 Loss 0.0000\n",
            "Epoch 5 Batch 3800 Loss 0.0000\n",
            "Saved epoch: 5\n",
            "Epoch 5 Loss 0.0011\n",
            "Time taken for 1 epoch 528.3798661231995 sec\n",
            "\n"
          ],
          "name": "stdout"
        }
      ]
    },
    {
      "cell_type": "markdown",
      "metadata": {
        "id": "Eyexdqi0M8hH"
      },
      "source": [
        "### Evaluation"
      ]
    },
    {
      "cell_type": "code",
      "metadata": {
        "id": "fnZyvWqNNNKt"
      },
      "source": [
        "def max_length(tensor):\n",
        "    return max(len(t) for t in tensor)"
      ],
      "execution_count": null,
      "outputs": []
    },
    {
      "cell_type": "code",
      "metadata": {
        "id": "oTJBsVz_NMPP"
      },
      "source": [
        "max_length_targ, max_length_inp = max_length(target_tensor), max_length(input_tensor)"
      ],
      "execution_count": null,
      "outputs": []
    },
    {
      "cell_type": "code",
      "metadata": {
        "id": "Kn3ZLnj3JEpO"
      },
      "source": [
        "def evaluate(sentence):\n",
        "    attention_plot = np.zeros((max_length_targ, max_length_inp))\n",
        "\n",
        "    sentence = preprocess_strings(sentence)\n",
        "\n",
        "    inputs = [inp_lang_tokenizer.word_index[i] for i in sentence.split(' ')]\n",
        "    inputs = tf.keras.preprocessing.sequence.pad_sequences([inputs],\n",
        "                                                           maxlen=max_length_inp,\n",
        "                                                           padding='post')\n",
        "    inputs = tf.convert_to_tensor(inputs)\n",
        "    \n",
        "    result = ''\n",
        "\n",
        "    hidden = [tf.zeros((1, units))]\n",
        "    enc_out, enc_hidden = encoder(inputs, hidden)\n",
        "\n",
        "    dec_hidden = enc_hidden\n",
        "    dec_input = tf.expand_dims([targ_lang_tokenizer.word_index['<start>']], 0)\n",
        "\n",
        "    for t in range(max_length_targ):\n",
        "        predictions, dec_hidden, attention_weights = decoder(dec_input,\n",
        "                                                             dec_hidden,\n",
        "                                                             enc_out)\n",
        "\n",
        "        # storing the attention weights to plot later on\n",
        "        attention_weights = tf.reshape(attention_weights, (-1, ))\n",
        "        attention_plot[t] = attention_weights.numpy()\n",
        "\n",
        "        predicted_id = tf.argmax(predictions[0]).numpy()\n",
        "\n",
        "        result += targ_lang_tokenizer.index_word[predicted_id] + ' '\n",
        "\n",
        "        if targ_lang_tokenizer.index_word[predicted_id] == '<end>':\n",
        "            return result, sentence, attention_plot\n",
        "\n",
        "        # the predicted ID is fed back into the model\n",
        "        dec_input = tf.expand_dims([predicted_id], 0)\n",
        "\n",
        "    return result, sentence, attention_plot"
      ],
      "execution_count": null,
      "outputs": []
    },
    {
      "cell_type": "code",
      "metadata": {
        "id": "umrQPiXzJEmh"
      },
      "source": [
        "# function for plotting the attention weights\n",
        "def plot_attention(attention, sentence, predicted_sentence):\n",
        "    fig = plt.figure(figsize=(10,10))\n",
        "    ax = fig.add_subplot(1, 1, 1)\n",
        "    ax.matshow(attention, cmap='viridis')\n",
        "\n",
        "    fontdict = {'fontsize': 14}\n",
        "\n",
        "    ax.set_xticklabels([''] + sentence, fontdict=fontdict, rotation=90)\n",
        "    ax.set_yticklabels([''] + predicted_sentence, fontdict=fontdict)\n",
        "\n",
        "    ax.xaxis.set_major_locator(ticker.MultipleLocator(1))\n",
        "    ax.yaxis.set_major_locator(ticker.MultipleLocator(1))\n",
        "\n",
        "    plt.show()"
      ],
      "execution_count": null,
      "outputs": []
    },
    {
      "cell_type": "code",
      "metadata": {
        "id": "lejO34wRJEjk"
      },
      "source": [
        "def translate(sentence):\n",
        "    result, sentence, attention_plot = evaluate(sentence)\n",
        "\n",
        "    print('Input: %s' % (sentence))\n",
        "    print('Predicted translation: {}'.format(result))\n",
        "\n",
        "    attention_plot = attention_plot[:len(result.split(' ')), :len(sentence.split(' '))]\n",
        "    plot_attention(attention_plot, sentence.split(' '), result.split(' '))"
      ],
      "execution_count": null,
      "outputs": []
    },
    {
      "cell_type": "code",
      "metadata": {
        "id": "fExKUNvrJEg0",
        "colab": {
          "base_uri": "https://localhost:8080/"
        },
        "outputId": "fcc4028a-70b6-4101-e6db-f08f34a5bdf6"
      },
      "source": [
        "# restoring the latest checkpoint in checkpoint_dir\n",
        "checkpoint.restore(tf.train.latest_checkpoint(checkpoint_dir))"
      ],
      "execution_count": null,
      "outputs": [
        {
          "output_type": "execute_result",
          "data": {
            "text/plain": [
              "<tensorflow.python.training.tracking.util.CheckpointLoadStatus at 0x7f0a1d8b07f0>"
            ]
          },
          "metadata": {
            "tags": []
          },
          "execution_count": 58
        }
      ]
    },
    {
      "cell_type": "code",
      "metadata": {
        "id": "MOmRe3rePI90"
      },
      "source": [
        "def evaluate_accuracy(inputs):\n",
        "    attention_plot = np.zeros((max_length_targ, max_length_inp))\n",
        "    sentence = ''\n",
        "    for i in range(len(inputs.numpy()[0])):\n",
        "      if inputs.numpy()[0][i] != 0:\n",
        "        sentence += inp_lang_tokenizer.index_word[inputs.numpy()[0][i]] + ' '\n",
        "\n",
        "    inputs = tf.convert_to_tensor(inputs)\n",
        "    \n",
        "    result = ''\n",
        "    result_seq = ''\n",
        "    \n",
        "    hidden = [tf.zeros((1, units))]\n",
        "    enc_out, enc_hidden = encoder(inputs, hidden)\n",
        "    \n",
        "    dec_hidden = enc_hidden\n",
        "    dec_input = tf.expand_dims([targ_lang_tokenizer.word_index['<start>']], 0)\n",
        "    \n",
        "    for t in range(max_length_targ):\n",
        "        predictions, dec_hidden, attention_weights = decoder(dec_input,\n",
        "                                                             dec_hidden,\n",
        "                                                             enc_out)\n",
        "\n",
        "        # storing the attention weights to plot later on\n",
        "        attention_weights = tf.reshape(attention_weights, (-1, ))\n",
        "        attention_plot[t] = attention_weights.numpy()\n",
        "\n",
        "        predicted_id = tf.argmax(predictions[0]).numpy()\n",
        "        \n",
        "        result_seq += str(predicted_id) +' '\n",
        "        \n",
        "        result += targ_lang_tokenizer.index_word[predicted_id] + ' '\n",
        "\n",
        "        if targ_lang_tokenizer.index_word[predicted_id] == '<end>':\n",
        "            return result_seq, result, sentence, attention_plot\n",
        "\n",
        "        # the predicted ID is fed back into the model\n",
        "        dec_input = tf.expand_dims([predicted_id], 0)\n",
        "\n",
        "    return result_seq, result, sentence, attention_plot"
      ],
      "execution_count": null,
      "outputs": []
    },
    {
      "cell_type": "code",
      "metadata": {
        "id": "jjHwLDy8TTYv"
      },
      "source": [
        "dataset_val = tf.data.Dataset.from_tensor_slices((input_tensor_val, target_tensor_val)).shuffle(BUFFER_SIZE)\n",
        "dataset_val = dataset_val.batch(1, drop_remainder=True)"
      ],
      "execution_count": null,
      "outputs": []
    },
    {
      "cell_type": "code",
      "metadata": {
        "id": "MZZyZW6LoCKm",
        "colab": {
          "base_uri": "https://localhost:8080/"
        },
        "outputId": "997fd118-7ee1-4472-a0bd-f6a3aa6c0695"
      },
      "source": [
        "y_true = []\n",
        "y_pred = []\n",
        "acc_cnt = 0\n",
        "\n",
        "a = 0\n",
        "for (inp_val_batch, target_val_batch) in iter(dataset_val):\n",
        "  a += 1\n",
        "  if a % 500 == 0:\n",
        "    print(a)\n",
        "    print(\"Accuracy count: \",acc_cnt)\n",
        "    print('------------------')\n",
        "  target_sentence = ''\n",
        "  for i in target_val_batch.numpy()[0]:\n",
        "    if i!= 0:\n",
        "      target_sentence += (targ_lang_tokenizer.index_word[i] + ' ')\n",
        "  target_sentence = target_sentence.split('<start> ')[1]\n",
        "  \n",
        "  y_true.append([target_sentence.split(' ')])\n",
        "\n",
        "  res_seq, res, sent, att = evaluate_accuracy(inp_val_batch)\n",
        "  y_pred.append(res.split(' '))\n",
        "  \n",
        "  if target_sentence == res:\n",
        "    acc_cnt += 1"
      ],
      "execution_count": null,
      "outputs": [
        {
          "output_type": "stream",
          "text": [
            "8000\n",
            "Accuracy count:  7999\n",
            "------------------\n",
            "8500\n",
            "Accuracy count:  8499\n",
            "------------------\n",
            "9000\n",
            "Accuracy count:  8999\n",
            "------------------\n",
            "9500\n",
            "Accuracy count:  9498\n",
            "------------------\n",
            "10000\n",
            "Accuracy count:  9998\n",
            "------------------\n",
            "10500\n",
            "Accuracy count:  10498\n",
            "------------------\n",
            "11000\n",
            "Accuracy count:  10998\n",
            "------------------\n",
            "11500\n",
            "Accuracy count:  11498\n",
            "------------------\n",
            "12000\n",
            "Accuracy count:  11998\n",
            "------------------\n",
            "12500\n",
            "Accuracy count:  12498\n",
            "------------------\n",
            "13000\n",
            "Accuracy count:  12998\n",
            "------------------\n",
            "13500\n",
            "Accuracy count:  13498\n",
            "------------------\n",
            "14000\n",
            "Accuracy count:  13998\n",
            "------------------\n",
            "14500\n",
            "Accuracy count:  14498\n",
            "------------------\n",
            "15000\n",
            "Accuracy count:  14998\n",
            "------------------\n",
            "15500\n",
            "Accuracy count:  15498\n",
            "------------------\n",
            "16000\n",
            "Accuracy count:  15998\n",
            "------------------\n",
            "16500\n",
            "Accuracy count:  16498\n",
            "------------------\n",
            "17000\n",
            "Accuracy count:  16998\n",
            "------------------\n",
            "17500\n",
            "Accuracy count:  17498\n",
            "------------------\n",
            "18000\n",
            "Accuracy count:  17998\n",
            "------------------\n",
            "18500\n",
            "Accuracy count:  18498\n",
            "------------------\n",
            "19000\n",
            "Accuracy count:  18998\n",
            "------------------\n",
            "19500\n",
            "Accuracy count:  19498\n",
            "------------------\n",
            "20000\n",
            "Accuracy count:  19998\n",
            "------------------\n"
          ],
          "name": "stdout"
        }
      ]
    },
    {
      "cell_type": "code",
      "metadata": {
        "id": "FIaALZGCBTWN",
        "colab": {
          "base_uri": "https://localhost:8080/",
          "height": 34
        },
        "outputId": "f858de6e-d1c0-4b93-bbb3-c2452a7b57f5"
      },
      "source": [
        "print('Corpus BLEU score of the model: ', corpus_bleu(y_true, y_pred))"
      ],
      "execution_count": null,
      "outputs": [
        {
          "output_type": "stream",
          "text": [
            "Corpus BLEU score of the model:  0.9951898934618143\n"
          ],
          "name": "stdout"
        }
      ]
    },
    {
      "cell_type": "code",
      "metadata": {
        "id": "bcswXaKS5ssh",
        "colab": {
          "base_uri": "https://localhost:8080/",
          "height": 34
        },
        "outputId": "6ee0b521-4d75-4725-a536-03afcc94e78d"
      },
      "source": [
        "print('Accuracy of the model: ',acc_cnt/len(input_tensor_val))"
      ],
      "execution_count": null,
      "outputs": [
        {
          "output_type": "stream",
          "text": [
            "Accuracy of the model:  0.9656\n"
          ],
          "name": "stdout"
        }
      ]
    },
    {
      "cell_type": "markdown",
      "metadata": {
        "id": "c90clFbl1WpE"
      },
      "source": [
        "#### Translation and Attention Plots"
      ]
    },
    {
      "cell_type": "code",
      "metadata": {
        "id": "BZWk14NP_fh4",
        "colab": {
          "base_uri": "https://localhost:8080/",
          "height": 34
        },
        "outputId": "539f2894-4ce7-44eb-db9d-765e530aee63"
      },
      "source": [
        "check_str = 'One Thousand Three Hundred Nine subtract Fourteen Thousand Three Hundred Nine'\n",
        "check_str in input_exps"
      ],
      "execution_count": null,
      "outputs": [
        {
          "output_type": "execute_result",
          "data": {
            "text/plain": [
              "False"
            ]
          },
          "metadata": {
            "tags": []
          },
          "execution_count": 40
        }
      ]
    },
    {
      "cell_type": "code",
      "metadata": {
        "id": "kpagV8m3_hXZ",
        "colab": {
          "base_uri": "https://localhost:8080/",
          "height": 656
        },
        "outputId": "fb3ec2b7-97b4-40b3-c33e-8f27f5797d23"
      },
      "source": [
        "translate(check_str)"
      ],
      "execution_count": null,
      "outputs": [
        {
          "output_type": "stream",
          "text": [
            "Input: <start> one thousand three hundred nine subtract fourteen thousand three hundred nine <end>\n",
            "Predicted translation: 1 3 0 9 - 1 4 3 0 9 <end> \n"
          ],
          "name": "stdout"
        },
        {
          "output_type": "display_data",
          "data": {
            "image/png": "[encoded data removed]",
            "text/plain": [
              "<Figure size 720x720 with 1 Axes>"
            ]
          },
          "metadata": {
            "tags": []
          }
        }
      ]
    },
    {
      "cell_type": "code",
      "metadata": {
        "id": "xbs4L3vWTtMr",
        "colab": {
          "base_uri": "https://localhost:8080/",
          "height": 623
        },
        "outputId": "b987d690-5ea0-4aa9-dbc1-9c64bccf99d7"
      },
      "source": [
        "translate(\"thirty plus one hundred twenty five\")"
      ],
      "execution_count": null,
      "outputs": [
        {
          "output_type": "stream",
          "text": [
            "Input: <start> thirty plus one hundred twenty five <end>\n",
            "Predicted translation: 3 0 0 5 5 <end> \n"
          ],
          "name": "stdout"
        },
        {
          "output_type": "display_data",
          "data": {
            "image/png": "[encoded data removed]",
            "text/plain": [
              "<Figure size 720x720 with 1 Axes>"
            ]
          },
          "metadata": {
            "tags": []
          }
        }
      ]
    },
    {
      "cell_type": "code",
      "metadata": {
        "id": "azzion5Ns8kz",
        "colab": {
          "base_uri": "https://localhost:8080/",
          "height": 675
        },
        "outputId": "0bd03ca6-1333-4e12-feeb-cc80fde9c571"
      },
      "source": [
        "translate('One plus Two')"
      ],
      "execution_count": null,
      "outputs": [
        {
          "output_type": "stream",
          "text": [
            "Input: <start> one plus two <end>\n",
            "Predicted translation: 1 4 0 0 0 0 0 0 0 0 0 0 0 0 0 0 0 0 0 0 0 0 0 0 0 0 0 0 0 0 0 \n"
          ],
          "name": "stdout"
        },
        {
          "output_type": "display_data",
          "data": {
            "image/png": "[encoded data removed]",
            "text/plain": [
              "<Figure size 720x720 with 1 Axes>"
            ]
          },
          "metadata": {
            "tags": []
          }
        }
      ]
    },
    {
      "cell_type": "markdown",
      "metadata": {
        "id": "SXvLCFUl5-i8"
      },
      "source": [
        "### Conclusions"
      ]
    },
    {
      "cell_type": "markdown",
      "metadata": {
        "id": "nbmRpK395-Tr"
      },
      "source": [
        "We can see that this baseline model on this simple dataset is clearly memorizing the data rather than learning the actual way to translate the words to an equation.\n",
        "The Corpus BLEU and Accuracy scores are very high, but the translation fails on simple equations like \"One plus Two\"\n",
        "\n",
        "Sources:\n",
        "1. https://www.tensorflow.org/tutorials/text/nmt_with_attention#top_of_page"
      ]
    },
    {
      "cell_type": "code",
      "metadata": {
        "id": "rd86HZPyFGz3"
      },
      "source": [
        ""
      ],
      "execution_count": null,
      "outputs": []
    }
  ]
}