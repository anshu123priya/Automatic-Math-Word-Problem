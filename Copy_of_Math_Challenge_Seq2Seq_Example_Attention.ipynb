{
  "nbformat": 4,
  "nbformat_minor": 0,
  "metadata": {
    "kernelspec": {
      "display_name": "Python 3",
      "language": "python",
      "name": "python3"
    },
    "language_info": {
      "codemirror_mode": {
        "name": "ipython",
        "version": 3
      },
      "file_extension": ".py",
      "mimetype": "text/x-python",
      "name": "python",
      "nbconvert_exporter": "python",
      "pygments_lexer": "ipython3",
      "version": "3.6.5"
    },
    "colab": {
      "name": "Copy of Math Challenge Seq2Seq Example Attention.ipynb",
      "provenance": []
    }
  },
  "cells": [
    {
      "cell_type": "code",
      "metadata": {
        "scrolled": false,
        "id": "QYSjxiMX5ubA",
        "colab": {
          "base_uri": "https://localhost:8080/"
        },
        "outputId": "3c87ccde-0d47-464c-86dc-90b93e2dac30"
      },
      "source": [
        "!pip install matplotlib"
      ],
      "execution_count": null,
      "outputs": [
        {
          "output_type": "stream",
          "text": [
            "Requirement already satisfied: matplotlib in /usr/local/lib/python3.6/dist-packages (3.2.2)\n",
            "Requirement already satisfied: python-dateutil>=2.1 in /usr/local/lib/python3.6/dist-packages (from matplotlib) (2.8.1)\n",
            "Requirement already satisfied: numpy>=1.11 in /usr/local/lib/python3.6/dist-packages (from matplotlib) (1.19.4)\n",
            "Requirement already satisfied: kiwisolver>=1.0.1 in /usr/local/lib/python3.6/dist-packages (from matplotlib) (1.3.1)\n",
            "Requirement already satisfied: pyparsing!=2.0.4,!=2.1.2,!=2.1.6,>=2.0.1 in /usr/local/lib/python3.6/dist-packages (from matplotlib) (2.4.7)\n",
            "Requirement already satisfied: cycler>=0.10 in /usr/local/lib/python3.6/dist-packages (from matplotlib) (0.10.0)\n",
            "Requirement already satisfied: six>=1.5 in /usr/local/lib/python3.6/dist-packages (from python-dateutil>=2.1->matplotlib) (1.15.0)\n"
          ],
          "name": "stdout"
        }
      ]
    },
    {
      "cell_type": "code",
      "metadata": {
        "id": "VGZF3Fkx5ubL",
        "colab": {
          "base_uri": "https://localhost:8080/"
        },
        "outputId": "99369686-8180-49d9-c55b-f916f05c04ad"
      },
      "source": [
        "!pip install spacy\n",
        "!python -m spacy download en"
      ],
      "execution_count": null,
      "outputs": [
        {
          "output_type": "stream",
          "text": [
            "Requirement already satisfied: spacy in /usr/local/lib/python3.6/dist-packages (2.2.4)\n",
            "Requirement already satisfied: plac<1.2.0,>=0.9.6 in /usr/local/lib/python3.6/dist-packages (from spacy) (1.1.3)\n",
            "Requirement already satisfied: blis<0.5.0,>=0.4.0 in /usr/local/lib/python3.6/dist-packages (from spacy) (0.4.1)\n",
            "Requirement already satisfied: thinc==7.4.0 in /usr/local/lib/python3.6/dist-packages (from spacy) (7.4.0)\n",
            "Requirement already satisfied: cymem<2.1.0,>=2.0.2 in /usr/local/lib/python3.6/dist-packages (from spacy) (2.0.5)\n",
            "Requirement already satisfied: catalogue<1.1.0,>=0.0.7 in /usr/local/lib/python3.6/dist-packages (from spacy) (1.0.0)\n",
            "Requirement already satisfied: tqdm<5.0.0,>=4.38.0 in /usr/local/lib/python3.6/dist-packages (from spacy) (4.41.1)\n",
            "Requirement already satisfied: numpy>=1.15.0 in /usr/local/lib/python3.6/dist-packages (from spacy) (1.19.4)\n",
            "Requirement already satisfied: requests<3.0.0,>=2.13.0 in /usr/local/lib/python3.6/dist-packages (from spacy) (2.23.0)\n",
            "Requirement already satisfied: wasabi<1.1.0,>=0.4.0 in /usr/local/lib/python3.6/dist-packages (from spacy) (0.8.0)\n",
            "Requirement already satisfied: srsly<1.1.0,>=1.0.2 in /usr/local/lib/python3.6/dist-packages (from spacy) (1.0.5)\n",
            "Requirement already satisfied: murmurhash<1.1.0,>=0.28.0 in /usr/local/lib/python3.6/dist-packages (from spacy) (1.0.5)\n",
            "Requirement already satisfied: setuptools in /usr/local/lib/python3.6/dist-packages (from spacy) (51.0.0)\n",
            "Requirement already satisfied: preshed<3.1.0,>=3.0.2 in /usr/local/lib/python3.6/dist-packages (from spacy) (3.0.5)\n",
            "Requirement already satisfied: importlib-metadata>=0.20; python_version < \"3.8\" in /usr/local/lib/python3.6/dist-packages (from catalogue<1.1.0,>=0.0.7->spacy) (3.3.0)\n",
            "Requirement already satisfied: urllib3!=1.25.0,!=1.25.1,<1.26,>=1.21.1 in /usr/local/lib/python3.6/dist-packages (from requests<3.0.0,>=2.13.0->spacy) (1.24.3)\n",
            "Requirement already satisfied: idna<3,>=2.5 in /usr/local/lib/python3.6/dist-packages (from requests<3.0.0,>=2.13.0->spacy) (2.10)\n",
            "Requirement already satisfied: chardet<4,>=3.0.2 in /usr/local/lib/python3.6/dist-packages (from requests<3.0.0,>=2.13.0->spacy) (3.0.4)\n",
            "Requirement already satisfied: certifi>=2017.4.17 in /usr/local/lib/python3.6/dist-packages (from requests<3.0.0,>=2.13.0->spacy) (2020.12.5)\n",
            "Requirement already satisfied: zipp>=0.5 in /usr/local/lib/python3.6/dist-packages (from importlib-metadata>=0.20; python_version < \"3.8\"->catalogue<1.1.0,>=0.0.7->spacy) (3.4.0)\n",
            "Requirement already satisfied: typing-extensions>=3.6.4; python_version < \"3.8\" in /usr/local/lib/python3.6/dist-packages (from importlib-metadata>=0.20; python_version < \"3.8\"->catalogue<1.1.0,>=0.0.7->spacy) (3.7.4.3)\n",
            "Requirement already satisfied: en_core_web_sm==2.2.5 from https://github.com/explosion/spacy-models/releases/download/en_core_web_sm-2.2.5/en_core_web_sm-2.2.5.tar.gz#egg=en_core_web_sm==2.2.5 in /usr/local/lib/python3.6/dist-packages (2.2.5)\n",
            "Requirement already satisfied: spacy>=2.2.2 in /usr/local/lib/python3.6/dist-packages (from en_core_web_sm==2.2.5) (2.2.4)\n",
            "Requirement already satisfied: setuptools in /usr/local/lib/python3.6/dist-packages (from spacy>=2.2.2->en_core_web_sm==2.2.5) (51.0.0)\n",
            "Requirement already satisfied: requests<3.0.0,>=2.13.0 in /usr/local/lib/python3.6/dist-packages (from spacy>=2.2.2->en_core_web_sm==2.2.5) (2.23.0)\n",
            "Requirement already satisfied: srsly<1.1.0,>=1.0.2 in /usr/local/lib/python3.6/dist-packages (from spacy>=2.2.2->en_core_web_sm==2.2.5) (1.0.5)\n",
            "Requirement already satisfied: wasabi<1.1.0,>=0.4.0 in /usr/local/lib/python3.6/dist-packages (from spacy>=2.2.2->en_core_web_sm==2.2.5) (0.8.0)\n",
            "Requirement already satisfied: plac<1.2.0,>=0.9.6 in /usr/local/lib/python3.6/dist-packages (from spacy>=2.2.2->en_core_web_sm==2.2.5) (1.1.3)\n",
            "Requirement already satisfied: cymem<2.1.0,>=2.0.2 in /usr/local/lib/python3.6/dist-packages (from spacy>=2.2.2->en_core_web_sm==2.2.5) (2.0.5)\n",
            "Requirement already satisfied: preshed<3.1.0,>=3.0.2 in /usr/local/lib/python3.6/dist-packages (from spacy>=2.2.2->en_core_web_sm==2.2.5) (3.0.5)\n",
            "Requirement already satisfied: numpy>=1.15.0 in /usr/local/lib/python3.6/dist-packages (from spacy>=2.2.2->en_core_web_sm==2.2.5) (1.19.4)\n",
            "Requirement already satisfied: murmurhash<1.1.0,>=0.28.0 in /usr/local/lib/python3.6/dist-packages (from spacy>=2.2.2->en_core_web_sm==2.2.5) (1.0.5)\n",
            "Requirement already satisfied: tqdm<5.0.0,>=4.38.0 in /usr/local/lib/python3.6/dist-packages (from spacy>=2.2.2->en_core_web_sm==2.2.5) (4.41.1)\n",
            "Requirement already satisfied: thinc==7.4.0 in /usr/local/lib/python3.6/dist-packages (from spacy>=2.2.2->en_core_web_sm==2.2.5) (7.4.0)\n",
            "Requirement already satisfied: catalogue<1.1.0,>=0.0.7 in /usr/local/lib/python3.6/dist-packages (from spacy>=2.2.2->en_core_web_sm==2.2.5) (1.0.0)\n",
            "Requirement already satisfied: blis<0.5.0,>=0.4.0 in /usr/local/lib/python3.6/dist-packages (from spacy>=2.2.2->en_core_web_sm==2.2.5) (0.4.1)\n",
            "Requirement already satisfied: idna<3,>=2.5 in /usr/local/lib/python3.6/dist-packages (from requests<3.0.0,>=2.13.0->spacy>=2.2.2->en_core_web_sm==2.2.5) (2.10)\n",
            "Requirement already satisfied: chardet<4,>=3.0.2 in /usr/local/lib/python3.6/dist-packages (from requests<3.0.0,>=2.13.0->spacy>=2.2.2->en_core_web_sm==2.2.5) (3.0.4)\n",
            "Requirement already satisfied: urllib3!=1.25.0,!=1.25.1,<1.26,>=1.21.1 in /usr/local/lib/python3.6/dist-packages (from requests<3.0.0,>=2.13.0->spacy>=2.2.2->en_core_web_sm==2.2.5) (1.24.3)\n",
            "Requirement already satisfied: certifi>=2017.4.17 in /usr/local/lib/python3.6/dist-packages (from requests<3.0.0,>=2.13.0->spacy>=2.2.2->en_core_web_sm==2.2.5) (2020.12.5)\n",
            "Requirement already satisfied: importlib-metadata>=0.20; python_version < \"3.8\" in /usr/local/lib/python3.6/dist-packages (from catalogue<1.1.0,>=0.0.7->spacy>=2.2.2->en_core_web_sm==2.2.5) (3.3.0)\n",
            "Requirement already satisfied: typing-extensions>=3.6.4; python_version < \"3.8\" in /usr/local/lib/python3.6/dist-packages (from importlib-metadata>=0.20; python_version < \"3.8\"->catalogue<1.1.0,>=0.0.7->spacy>=2.2.2->en_core_web_sm==2.2.5) (3.7.4.3)\n",
            "Requirement already satisfied: zipp>=0.5 in /usr/local/lib/python3.6/dist-packages (from importlib-metadata>=0.20; python_version < \"3.8\"->catalogue<1.1.0,>=0.0.7->spacy>=2.2.2->en_core_web_sm==2.2.5) (3.4.0)\n",
            "\u001b[38;5;2m✔ Download and installation successful\u001b[0m\n",
            "You can now load the model via spacy.load('en_core_web_sm')\n",
            "\u001b[38;5;2m✔ Linking successful\u001b[0m\n",
            "/usr/local/lib/python3.6/dist-packages/en_core_web_sm -->\n",
            "/usr/local/lib/python3.6/dist-packages/spacy/data/en\n",
            "You can now load the model via spacy.load('en')\n"
          ],
          "name": "stdout"
        }
      ]
    },
    {
      "cell_type": "code",
      "metadata": {
        "id": "VXwljHX65ubL",
        "colab": {
          "base_uri": "https://localhost:8080/"
        },
        "outputId": "0655dadf-6f48-474a-edff-551e82b55549"
      },
      "source": [
        "!pip install torchtext"
      ],
      "execution_count": null,
      "outputs": [
        {
          "output_type": "stream",
          "text": [
            "Requirement already satisfied: torchtext in /usr/local/lib/python3.6/dist-packages (0.3.1)\n",
            "Requirement already satisfied: tqdm in /usr/local/lib/python3.6/dist-packages (from torchtext) (4.41.1)\n",
            "Requirement already satisfied: requests in /usr/local/lib/python3.6/dist-packages (from torchtext) (2.23.0)\n",
            "Requirement already satisfied: numpy in /usr/local/lib/python3.6/dist-packages (from torchtext) (1.19.4)\n",
            "Requirement already satisfied: torch in /usr/local/lib/python3.6/dist-packages (from torchtext) (1.7.0+cu101)\n",
            "Requirement already satisfied: idna<3,>=2.5 in /usr/local/lib/python3.6/dist-packages (from requests->torchtext) (2.10)\n",
            "Requirement already satisfied: urllib3!=1.25.0,!=1.25.1,<1.26,>=1.21.1 in /usr/local/lib/python3.6/dist-packages (from requests->torchtext) (1.24.3)\n",
            "Requirement already satisfied: certifi>=2017.4.17 in /usr/local/lib/python3.6/dist-packages (from requests->torchtext) (2020.12.5)\n",
            "Requirement already satisfied: chardet<4,>=3.0.2 in /usr/local/lib/python3.6/dist-packages (from requests->torchtext) (3.0.4)\n",
            "Requirement already satisfied: typing-extensions in /usr/local/lib/python3.6/dist-packages (from torch->torchtext) (3.7.4.3)\n",
            "Requirement already satisfied: dataclasses in /usr/local/lib/python3.6/dist-packages (from torch->torchtext) (0.8)\n",
            "Requirement already satisfied: future in /usr/local/lib/python3.6/dist-packages (from torch->torchtext) (0.16.0)\n"
          ],
          "name": "stdout"
        }
      ]
    },
    {
      "cell_type": "code",
      "metadata": {
        "id": "58j8WEmn5ubM",
        "colab": {
          "base_uri": "https://localhost:8080/"
        },
        "outputId": "82ab2527-d1bf-4293-edab-ae0eb0cda110"
      },
      "source": [
        "!pip install pandas"
      ],
      "execution_count": null,
      "outputs": [
        {
          "output_type": "stream",
          "text": [
            "Requirement already satisfied: pandas in /usr/local/lib/python3.6/dist-packages (1.1.5)\n",
            "Requirement already satisfied: python-dateutil>=2.7.3 in /usr/local/lib/python3.6/dist-packages (from pandas) (2.8.1)\n",
            "Requirement already satisfied: numpy>=1.15.4 in /usr/local/lib/python3.6/dist-packages (from pandas) (1.19.4)\n",
            "Requirement already satisfied: pytz>=2017.2 in /usr/local/lib/python3.6/dist-packages (from pandas) (2018.9)\n",
            "Requirement already satisfied: six>=1.5 in /usr/local/lib/python3.6/dist-packages (from python-dateutil>=2.7.3->pandas) (1.15.0)\n"
          ],
          "name": "stdout"
        }
      ]
    },
    {
      "cell_type": "code",
      "metadata": {
        "id": "y_BX6pkY5ubM"
      },
      "source": [
        "%matplotlib inline\n",
        "import matplotlib\n",
        "matplotlib.use('WebAgg')\n",
        "#matplotlib.use('TkAgg')\n",
        "import matplotlib.pyplot as plt"
      ],
      "execution_count": null,
      "outputs": []
    },
    {
      "cell_type": "markdown",
      "metadata": {
        "id": "5y46gezW5ubN"
      },
      "source": [
        "# Requirements"
      ]
    },
    {
      "cell_type": "code",
      "metadata": {
        "id": "RaFY0amV5ubO"
      },
      "source": [
        "from __future__ import unicode_literals, print_function, division\n",
        "from io import open\n",
        "import unicodedata\n",
        "import string\n",
        "import re\n",
        "import random\n",
        "\n",
        "# import spacy\n",
        "import torch\n",
        "import torch.nn.init as init\n",
        "from torch.nn.parameter import Parameter\n",
        "import torch.nn as nn\n",
        "from torch import optim\n",
        "import torch.nn.functional as F\n",
        "\n",
        "device = torch.device(\"cuda\" if torch.cuda.is_available() else \"cpu\")"
      ],
      "execution_count": null,
      "outputs": []
    },
    {
      "cell_type": "code",
      "metadata": {
        "id": "sTTbkD5Y5ubO",
        "colab": {
          "base_uri": "https://localhost:8080/"
        },
        "outputId": "daebe6f8-083b-436c-ee19-118dc685a8f6"
      },
      "source": [
        "device"
      ],
      "execution_count": null,
      "outputs": [
        {
          "output_type": "execute_result",
          "data": {
            "text/plain": [
              "device(type='cpu')"
            ]
          },
          "metadata": {
            "tags": []
          },
          "execution_count": 12
        }
      ]
    },
    {
      "cell_type": "code",
      "metadata": {
        "id": "UP1hVPME5ubP"
      },
      "source": [
        "import math\n",
        "\n",
        "class NeuralAccumulatorCell(nn.Module):\n",
        "    \n",
        "    # Feed forward but Weight decomposition\n",
        "    \n",
        "    def __init__(self, in_dim, out_dim):\n",
        "        super().__init__()\n",
        "        self.in_dim = in_dim\n",
        "        self.out_dim = out_dim\n",
        "\n",
        "        self.W_hat = Parameter(torch.Tensor(out_dim, in_dim))\n",
        "        self.M_hat = Parameter(torch.Tensor(out_dim, in_dim))\n",
        "        self.W = Parameter(torch.tanh(self.W_hat) * torch.sigmoid(self.M_hat))\n",
        "        self.register_parameter('bias', None)\n",
        "\n",
        "        init.kaiming_uniform_(self.W_hat, a=math.sqrt(5))\n",
        "        init.kaiming_uniform_(self.M_hat, a=math.sqrt(5))\n",
        "        \n",
        "        #init.normal_(self.W_hat)\n",
        "        #init.normal_(self.M_hat)\n",
        "        \n",
        "    def forward(self, input):\n",
        "        return F.linear(input, self.W, self.bias)\n",
        "\n",
        "\n",
        "class NAC(nn.Module):\n",
        "    \n",
        "    def __init__(self, dims):\n",
        "        '''\n",
        "        dims = [input_dim + hidden_dims + output_dims]\n",
        "        '''\n",
        "        super().__init__()\n",
        "        self.num_layers = len(dims) - 1\n",
        "        \n",
        "        layers = nn.ModuleList()\n",
        "        layers.extend([NeuralAccumulatorCell(dims[i],dims[i+1]) for i in range(self.num_layers)])\n",
        "        self.model = nn.Sequential(*layers)\n",
        "\n",
        "    def forward(self, x):\n",
        "        out = self.model(x)\n",
        "        return out\n",
        "\n",
        "class NeuralArithmeticLogicUnitCell(nn.Module):\n",
        "\n",
        "    def __init__(self, in_dim, out_dim):\n",
        "        super().__init__()\n",
        "        self.in_dim = in_dim\n",
        "        self.out_dim = out_dim\n",
        "        self.eps = 1e-10\n",
        "\n",
        "        self.G = Parameter(torch.Tensor(out_dim, in_dim))\n",
        "        self.W = Parameter(torch.Tensor(out_dim, in_dim))\n",
        "        self.register_parameter('bias', None)\n",
        "        self.nac = NeuralAccumulatorCell(in_dim, out_dim)\n",
        "\n",
        "        init.kaiming_uniform_(self.G, a=math.sqrt(5))\n",
        "        init.kaiming_uniform_(self.W, a=math.sqrt(5))\n",
        "\n",
        "    def forward(self, input):\n",
        "        \n",
        "        a = self.nac(input)\n",
        "        g = torch.sigmoid(F.linear(input, self.G, self.bias))\n",
        "        add_sub = g * a\n",
        "        log_input = torch.log(torch.abs(input) + self.eps)\n",
        "        m = torch.exp(self.nac(log_input))\n",
        "        # m = torch.exp(F.linear(log_input, self.W, self.bias))\n",
        "        mul_div = (1 - g) * m\n",
        "        y = add_sub + mul_div\n",
        "        return y\n",
        "\n",
        "\n",
        "class NALU(nn.Module):\n",
        "    \n",
        "    def __init__(self, dims):\n",
        "        super().__init__()\n",
        "        self.num_layers = len(dims) - 1\n",
        "        layers = nn.ModuleList()\n",
        "        layers.extend([NeuralArithmeticLogicUnitCell(dims[i],dims[i+1]) for i in range(self.num_layers)])\n",
        "        self.model = nn.Sequential(*layers)\n",
        "\n",
        "    def forward(self, x):\n",
        "        out = self.model(x)\n",
        "        return out\n",
        "\n",
        "class NALU_LSTMCell(nn.Module):\n",
        "\n",
        "    def __init__(self, input_size, hidden_size, bias=True):\n",
        "        super().__init__()\n",
        "        \n",
        "        self.input_size = input_size\n",
        "        self.hidden_size = hidden_size\n",
        "        self.bias = bias\n",
        "        self.i2h = nn.Sequential(\n",
        "            nn.Linear(input_size, 4 * hidden_size, bias=bias),\n",
        "#             nn.BatchNorm1d(4 * hidden_size),\n",
        "#             nn.LeakyReLU(0.2,inplace=True),\n",
        "#             nn.Linear(4 *input_size, 4 * hidden_size, bias=bias),\n",
        "        )\n",
        "        self.h2h = nn.Sequential(\n",
        "            nn.Linear(hidden_size, 4 * hidden_size, bias=bias),\n",
        "#            nn.BatchNorm1d(4 * hidden_size),\n",
        "#             nn.LeakyReLU(0.2,inplace=True),\n",
        "#             nn.Linear(4 * hidden_size, 4 * hidden_size, bias=bias)\n",
        "        )\n",
        "        self.nalu_h = NALU([hidden_size, hidden_size])\n",
        "        self.nalu_c = NALU([hidden_size, hidden_size])\n",
        "        self.out = nn.Linear(hidden_size, input_size, bias=bias)\n",
        "        self.apply(self.weight_init)\n",
        "\n",
        "    def weight_init(self,m):\n",
        "\n",
        "        std = 1.0 / math.sqrt(self.hidden_size)\n",
        "        for name, w in m.named_parameters():\n",
        "            w.data.uniform_(-std, std)\n",
        "\n",
        "    def forward(self, x, hidden = None):\n",
        "        \n",
        "        if hidden is None:\n",
        "            hidden = x.new_zeros(x.size(0), self.hidden_size, requires_grad=False)\n",
        "            hidden = (hidden, hidden)\n",
        "            \n",
        "        h, c = hidden\n",
        "        \n",
        "        preact = self.i2h(x) + self.h2h(h)\n",
        "        \n",
        "        # First: apply nalu to replace activation func\n",
        "        \n",
        "        # self.nalu(preact)\n",
        "        \n",
        "        gates = preact[:, :3 * self.hidden_size].sigmoid()\n",
        "        g_t = preact[:, 3 * self.hidden_size:].tanh()\n",
        "        i_t = gates[:, :self.hidden_size] \n",
        "        f_t = gates[:, self.hidden_size:2 * self.hidden_size]\n",
        "        o_t = gates[:, -self.hidden_size:]\n",
        "        \n",
        "        # Second: Apply it in the output and hidden layer\n",
        "\n",
        "        c_t = (c*f_t) + (i_t*g_t)\n",
        "\n",
        "        h_t = o_t * c_t.tanh()\n",
        "        \n",
        "        # return x, (h_t, c_t) # LSTM\n",
        "        \n",
        "        # return x + self.out(h_t), (h_t + h, c_t + c) # Residule LSTM\n",
        "\n",
        "        return  x + self.out(h_t) , (self.nalu_h(h_t + h), self.nalu_c(c_t + c)) # Residule NALU\n",
        "\n",
        "class NALU_LSTM(nn.Module):\n",
        "    \n",
        "    def __init__(self,input_size, hidden_sizes, bidirectional = False):\n",
        "        \n",
        "        super().__init__()\n",
        "        self.bidirectional = bidirectional\n",
        "        \n",
        "        if self.bidirectional:\n",
        "            self.num_dir = 2\n",
        "        else:\n",
        "            self.num_dir = 1\n",
        "            \n",
        "        self.input_size = input_size\n",
        "        self.L = len(hidden_sizes)\n",
        "        self.layers = nn.ModuleList()\n",
        "        self.layers.extend([NALU_LSTMCell(input_size,i) for i in hidden_sizes])\n",
        "        self.c0 = nn.ParameterList([nn.Parameter(torch.randn(self.num_dir, 1,i)) for i in hidden_sizes])\n",
        "        self.h0 = nn.ParameterList([nn.Parameter(torch.randn(self.num_dir, 1,i)) for i in hidden_sizes])\n",
        "        \n",
        "        \n",
        "    def forward(self, input):\n",
        "        \n",
        "        '''\n",
        "        input_shape = B, S, input_size\n",
        "        output_shape = B, num_dir, L, S, input_size\n",
        "        hidden, cells = S * (B, hidden_dim)\n",
        "        '''\n",
        "        \n",
        "        B,S = input.shape[:-1]\n",
        "        \n",
        "        outputs = torch.zeros(B, self.num_dir, self.L+1, S, self.input_size)\n",
        "        outputs[:,:,0,:,:] = input.unsqueeze(1).expand_as(outputs[:,:,0,:,:])\n",
        "        hiddens = []\n",
        "        cells = []\n",
        "    \n",
        "        for i, layer in enumerate(self.layers):\n",
        "            f_h, f_c = self.h0[i][0].repeat(B,1), self.c0[i][0].repeat(B,1)\n",
        "            if self.bidirectional:\n",
        "                i_h, i_c = self.h0[i][1].repeat(B,1), self.c0[i][1].repeat(B,1)\n",
        "            for j in range(S):\n",
        "                f_out, (f_h,f_c) = layer(outputs[:,0,i,j,:].clone(), (f_h,f_c))\n",
        "                outputs[:,0,i+1,j,:] = f_out\n",
        "\n",
        "            if self.bidirectional:\n",
        "                for j in reversed(range(S)):\n",
        "                    i_out, (i_h,i_c) = layer(outputs[:,1,i,j,:].clone(), (i_h,i_c))\n",
        "                    outputs[:,1,i+1,j,:] = i_out\n",
        "                hiddens.append((torch.stack([f_h,i_h])))\n",
        "                cells.append(torch.stack([f_c,i_c]))\n",
        "            else:\n",
        "                hiddens.append(f_h)\n",
        "                cells.append(f_c)\n",
        "                \n",
        "        \n",
        "        return outputs[:,:,1:,:,:].contiguous(), (hiddens, cells)\n"
      ],
      "execution_count": null,
      "outputs": []
    },
    {
      "cell_type": "code",
      "metadata": {
        "id": "0KnwLBGS66WJ",
        "colab": {
          "base_uri": "https://localhost:8080/"
        },
        "outputId": "b4b92c8e-91db-4607-e04f-f2f7f76e2bf2"
      },
      "source": [
        "from google.colab import drive\r\n",
        "drive.mount('/content/drive')"
      ],
      "execution_count": null,
      "outputs": [
        {
          "output_type": "stream",
          "text": [
            "Mounted at /content/drive\n"
          ],
          "name": "stdout"
        }
      ]
    },
    {
      "cell_type": "code",
      "metadata": {
        "id": "j8J5_A8T8Cwd",
        "colab": {
          "base_uri": "https://localhost:8080/"
        },
        "outputId": "1a49f7c3-31ac-4874-f384-b3a439a33929"
      },
      "source": [
        "!ls"
      ],
      "execution_count": null,
      "outputs": [
        {
          "output_type": "stream",
          "text": [
            "drive  sample_data\n"
          ],
          "name": "stdout"
        }
      ]
    },
    {
      "cell_type": "code",
      "metadata": {
        "id": "H2fxvzlr8Epq",
        "colab": {
          "base_uri": "https://localhost:8080/"
        },
        "outputId": "d0755706-23e3-469c-e969-661a6733622c"
      },
      "source": [
        "cd drive/MyDrive/math_te_cha"
      ],
      "execution_count": null,
      "outputs": [
        {
          "output_type": "stream",
          "text": [
            "/content/drive/MyDrive/math_te_cha\n"
          ],
          "name": "stdout"
        }
      ]
    },
    {
      "cell_type": "code",
      "metadata": {
        "id": "_JwvOrgc8HFF",
        "colab": {
          "base_uri": "https://localhost:8080/"
        },
        "outputId": "2545b130-9971-4e78-de66-3cb18067de6d"
      },
      "source": [
        "!ls"
      ],
      "execution_count": null,
      "outputs": [
        {
          "output_type": "stream",
          "text": [
            "number_word_std.dev.json\t     number_word_std.linear_t6.dev.json\n",
            "number_word_std.linear.dev.json      number_word_std.linear_t6.test.json\n",
            "number_word_std.linear_t2.dev.json   number_word_std.linear.test.json\n",
            "number_word_std.linear_t2.test.json  number_word_std.test.json\n"
          ],
          "name": "stdout"
        }
      ]
    },
    {
      "cell_type": "markdown",
      "metadata": {
        "id": "kAx532j95ubW"
      },
      "source": [
        "# Load and Explore Math Data"
      ]
    },
    {
      "cell_type": "code",
      "metadata": {
        "id": "DOaxVYBk5ubc",
        "colab": {
          "base_uri": "https://localhost:8080/"
        },
        "outputId": "ced260af-c87f-4d8a-9375-7c4fb330b1ca"
      },
      "source": [
        "import pandas as pd\n",
        "pd.set_option('display.max_colwidth', -1)\n",
        "math_train = pd.read_json('number_word_std.dev.json')\n",
        "math_train.equations = math_train.equations.apply(lambda x: '; '.join(x)) \n",
        "math_test = pd.read_json('number_word_std.test.json')\n",
        "math_test.equations = math_test.equations.apply(lambda x: '; '.join(x)) "
      ],
      "execution_count": null,
      "outputs": [
        {
          "output_type": "stream",
          "text": [
            "/usr/local/lib/python3.6/dist-packages/ipykernel_launcher.py:2: FutureWarning: Passing a negative integer is deprecated in version 1.0 and will not be supported in future version. Instead, use None to not limit the column width.\n",
            "  \n"
          ],
          "name": "stderr"
        }
      ]
    },
    {
      "cell_type": "markdown",
      "metadata": {
        "id": "SaRC0msP5ubd"
      },
      "source": [
        "## View Pairs\n",
        "\n",
        "### Train Set "
      ]
    },
    {
      "cell_type": "code",
      "metadata": {
        "id": "SwQ7f_8s5ube",
        "colab": {
          "base_uri": "https://localhost:8080/",
          "height": 490
        },
        "outputId": "c1192d6b-d63e-4d92-dca7-107c519d95f5"
      },
      "source": [
        "math_train[['text', 'equations', 'ans_simple']]"
      ],
      "execution_count": null,
      "outputs": [
        {
          "output_type": "execute_result",
          "data": {
            "text/html": [
              "<div>\n",
              "<style scoped>\n",
              "    .dataframe tbody tr th:only-of-type {\n",
              "        vertical-align: middle;\n",
              "    }\n",
              "\n",
              "    .dataframe tbody tr th {\n",
              "        vertical-align: top;\n",
              "    }\n",
              "\n",
              "    .dataframe thead th {\n",
              "        text-align: right;\n",
              "    }\n",
              "</style>\n",
              "<table border=\"1\" class=\"dataframe\">\n",
              "  <thead>\n",
              "    <tr style=\"text-align: right;\">\n",
              "      <th></th>\n",
              "      <th>text</th>\n",
              "      <th>equations</th>\n",
              "      <th>ans_simple</th>\n",
              "    </tr>\n",
              "  </thead>\n",
              "  <tbody>\n",
              "    <tr>\n",
              "      <th>0</th>\n",
              "      <td>one number is 11 more than another number. Find the two numbers if three times the larger exceeds four times the smaller number by 4.</td>\n",
              "      <td>unkn: x,y; equ: x=y+11; equ: 3*x=4*y+4</td>\n",
              "      <td>[40, 29]</td>\n",
              "    </tr>\n",
              "    <tr>\n",
              "      <th>1</th>\n",
              "      <td>One number is 3 less than a second number. Twice the second number is 12 less than 5 times the first. Find the two numbers.</td>\n",
              "      <td>unkn: x,y; equ: x + 3 = y; equ: 2*y + 12 = 5*x</td>\n",
              "      <td>[6, 9]</td>\n",
              "    </tr>\n",
              "    <tr>\n",
              "      <th>2</th>\n",
              "      <td>Find two numbers whose sum is 62 and whose difference is  6.</td>\n",
              "      <td>unkn: x,y; equ: x+y=62; equ: x-y=6</td>\n",
              "      <td>[34, 28]</td>\n",
              "    </tr>\n",
              "    <tr>\n",
              "      <th>3</th>\n",
              "      <td>the sum of two numbers is 68. their difference is 16. what are the numbers?</td>\n",
              "      <td>unkn: x,y; equ: x+y=68; equ: x-y=16</td>\n",
              "      <td>[42, 26]</td>\n",
              "    </tr>\n",
              "    <tr>\n",
              "      <th>4</th>\n",
              "      <td>the sum of two numbers is 97. the difference of the two numbers is 57. find the two numbers</td>\n",
              "      <td>unkn: x,y; equ: x+y=97; equ: x-y=57</td>\n",
              "      <td>[77, 20]</td>\n",
              "    </tr>\n",
              "    <tr>\n",
              "      <th>...</th>\n",
              "      <td>...</td>\n",
              "      <td>...</td>\n",
              "      <td>...</td>\n",
              "    </tr>\n",
              "    <tr>\n",
              "      <th>369</th>\n",
              "      <td>The sum of the reciprocals of two consecutive odd integers is 8/15. Find the integers.</td>\n",
              "      <td>unkn: 2*n+1,2*n+3; equ: 1/(2*n+1) + 1/(2*n+3) = 8/15; equ: is_integer(n)</td>\n",
              "      <td>[3, 5]</td>\n",
              "    </tr>\n",
              "    <tr>\n",
              "      <th>370</th>\n",
              "      <td>The sum of 4 consecutive odd integers is 3 more than 5 times the least of the integers. Find the integers.</td>\n",
              "      <td>unkn: m, n, x, y; equ: m % 2 = 1; equ: m + 2 = n; equ: n + 2 = x; equ: x + 2 = y; equ: m + n + x + y = 3 + 5*m</td>\n",
              "      <td>[9, 11, 13, 15]</td>\n",
              "    </tr>\n",
              "    <tr>\n",
              "      <th>371</th>\n",
              "      <td>What number can be subtracted from both the numerator and the denominator of 17/25 to form a fraction equal to 3/5?</td>\n",
              "      <td>unkn: n; equ: (17-n)/(25-n) = 3/5</td>\n",
              "      <td>[5]</td>\n",
              "    </tr>\n",
              "    <tr>\n",
              "      <th>372</th>\n",
              "      <td>When the reciprocal of three times a number is subtracted from the reciprocal of the number, the result is one sixth. Find the number.</td>\n",
              "      <td>unkn: x; equ: 1/x - 1/(3*x) = 1/6</td>\n",
              "      <td>[4]</td>\n",
              "    </tr>\n",
              "    <tr>\n",
              "      <th>373</th>\n",
              "      <td>if x^64 = 64 then x ^32 = ?</td>\n",
              "      <td>unkn: x^32; equ: x^64=64</td>\n",
              "      <td>[8]</td>\n",
              "    </tr>\n",
              "  </tbody>\n",
              "</table>\n",
              "<p>374 rows × 3 columns</p>\n",
              "</div>"
            ],
            "text/plain": [
              "                                                                                                                                       text  ...       ans_simple\n",
              "0    one number is 11 more than another number. Find the two numbers if three times the larger exceeds four times the smaller number by 4.   ...  [40, 29]       \n",
              "1    One number is 3 less than a second number. Twice the second number is 12 less than 5 times the first. Find the two numbers.             ...  [6, 9]         \n",
              "2    Find two numbers whose sum is 62 and whose difference is  6.                                                                            ...  [34, 28]       \n",
              "3    the sum of two numbers is 68. their difference is 16. what are the numbers?                                                             ...  [42, 26]       \n",
              "4    the sum of two numbers is 97. the difference of the two numbers is 57. find the two numbers                                             ...  [77, 20]       \n",
              "..                                                                                           ...                                             ...       ...       \n",
              "369  The sum of the reciprocals of two consecutive odd integers is 8/15. Find the integers.                                                  ...  [3, 5]         \n",
              "370  The sum of 4 consecutive odd integers is 3 more than 5 times the least of the integers. Find the integers.                              ...  [9, 11, 13, 15]\n",
              "371  What number can be subtracted from both the numerator and the denominator of 17/25 to form a fraction equal to 3/5?                     ...  [5]            \n",
              "372  When the reciprocal of three times a number is subtracted from the reciprocal of the number, the result is one sixth. Find the number.  ...  [4]            \n",
              "373  if x^64 = 64 then x ^32 = ?                                                                                                             ...  [8]            \n",
              "\n",
              "[374 rows x 3 columns]"
            ]
          },
          "metadata": {
            "tags": []
          },
          "execution_count": 21
        }
      ]
    },
    {
      "cell_type": "markdown",
      "metadata": {
        "id": "pwK39i505ube"
      },
      "source": [
        "#### Test Set"
      ]
    },
    {
      "cell_type": "code",
      "metadata": {
        "id": "vCP0j3zX5ubf",
        "colab": {
          "base_uri": "https://localhost:8080/",
          "height": 473
        },
        "outputId": "c3dff001-de84-4e99-8f80-24340fc1bb07"
      },
      "source": [
        "math_test[['text', 'equations', 'ans_simple']]"
      ],
      "execution_count": null,
      "outputs": [
        {
          "output_type": "execute_result",
          "data": {
            "text/html": [
              "<div>\n",
              "<style scoped>\n",
              "    .dataframe tbody tr th:only-of-type {\n",
              "        vertical-align: middle;\n",
              "    }\n",
              "\n",
              "    .dataframe tbody tr th {\n",
              "        vertical-align: top;\n",
              "    }\n",
              "\n",
              "    .dataframe thead th {\n",
              "        text-align: right;\n",
              "    }\n",
              "</style>\n",
              "<table border=\"1\" class=\"dataframe\">\n",
              "  <thead>\n",
              "    <tr style=\"text-align: right;\">\n",
              "      <th></th>\n",
              "      <th>text</th>\n",
              "      <th>equations</th>\n",
              "      <th>ans_simple</th>\n",
              "    </tr>\n",
              "  </thead>\n",
              "  <tbody>\n",
              "    <tr>\n",
              "      <th>0</th>\n",
              "      <td>The difference of two integers is 9. Five times the smaller is 7 more than three times the larger. Find the numbers.</td>\n",
              "      <td>unkn: x,y; equ: x-y=9; equ: 5*y=3*x+7</td>\n",
              "      <td>[26, 17]</td>\n",
              "    </tr>\n",
              "    <tr>\n",
              "      <th>1</th>\n",
              "      <td>Two numbers differ by 3. Four times the lesser diminished by three times the greater is 7. Find the numbers.</td>\n",
              "      <td>unkn: x,y; equ: x-y=3; equ: 4*y-3*x=7</td>\n",
              "      <td>[16, 19]</td>\n",
              "    </tr>\n",
              "    <tr>\n",
              "      <th>2</th>\n",
              "      <td>one number is 9 more than the other number.  The difference of seven times the smaller number and two times the larger is 157.  What are the numbers?</td>\n",
              "      <td>unkn: x,y; equ: x = y + 9; equ: 7*y - 2*x = 157</td>\n",
              "      <td>[44, 35]</td>\n",
              "    </tr>\n",
              "    <tr>\n",
              "      <th>3</th>\n",
              "      <td>The difference between two numbers is -38. Two times the smaller number minus five times the larger number is -217. What are the numbers?</td>\n",
              "      <td>unkn: x,y; equ: x-y=(-38); equ: 2*x-5*y=(-217)</td>\n",
              "      <td>[9, 47]</td>\n",
              "    </tr>\n",
              "    <tr>\n",
              "      <th>4</th>\n",
              "      <td>one number is 4 less than another. the difference  of twice the smaller and 5 times the larger number is -11. What are the numbers?</td>\n",
              "      <td>unkn: x, y; equ: x = y - 4; equ: 2*x - 5*y = -11</td>\n",
              "      <td>[-3, 1]</td>\n",
              "    </tr>\n",
              "    <tr>\n",
              "      <th>...</th>\n",
              "      <td>...</td>\n",
              "      <td>...</td>\n",
              "      <td>...</td>\n",
              "    </tr>\n",
              "    <tr>\n",
              "      <th>1499</th>\n",
              "      <td>if 5^21 x 4^11= 2 x 10^n what is the value of n?</td>\n",
              "      <td>unkn: n; equ: 5^21 * 4^11= 2 * 10^n</td>\n",
              "      <td>[21]</td>\n",
              "    </tr>\n",
              "    <tr>\n",
              "      <th>1500</th>\n",
              "      <td>Find the sum of a geometric sequence whose first term is 54, whose last (nth) term is 2, and whose common ratio is 1/3.</td>\n",
              "      <td>unkn: s; equ: s = 54 * ((1/3)^n - 1) / (1/3 - 1); equ: 2 = 54 * (1/3)^(n-1)</td>\n",
              "      <td>[80]</td>\n",
              "    </tr>\n",
              "    <tr>\n",
              "      <th>1501</th>\n",
              "      <td>Find the sum of the terms in the geometric series with a_1 = -9, r = -4, and a_n = 9,216?</td>\n",
              "      <td>unkn: s; equ: 9216 = (-9)*(-4)^(n-1); equ: s = (-9) * ((-4)^n - 1) / (-4 - 1)</td>\n",
              "      <td>[7371]</td>\n",
              "    </tr>\n",
              "    <tr>\n",
              "      <th>1502</th>\n",
              "      <td>What is the 7th term of the geometric sequence where a1 = -4 and a5 = -1,024?</td>\n",
              "      <td>unkn: x; equ: -1024 = -4*r^(5-1); equ: x = -4*r^(7-1)</td>\n",
              "      <td>[-16384]</td>\n",
              "    </tr>\n",
              "    <tr>\n",
              "      <th>1503</th>\n",
              "      <td>Suppose f(x)=4x-2 and g(x)=-2x+1. Find the value of f(5)/g(-3)?</td>\n",
              "      <td>unkn: v; equ: v = (4*5-2) / (-2*(-3)+1)</td>\n",
              "      <td>[2.571]</td>\n",
              "    </tr>\n",
              "  </tbody>\n",
              "</table>\n",
              "<p>1504 rows × 3 columns</p>\n",
              "</div>"
            ],
            "text/plain": [
              "                                                                                                                                                       text  ... ans_simple\n",
              "0     The difference of two integers is 9. Five times the smaller is 7 more than three times the larger. Find the numbers.                                   ...  [26, 17] \n",
              "1     Two numbers differ by 3. Four times the lesser diminished by three times the greater is 7. Find the numbers.                                           ...  [16, 19] \n",
              "2     one number is 9 more than the other number.  The difference of seven times the smaller number and two times the larger is 157.  What are the numbers?  ...  [44, 35] \n",
              "3     The difference between two numbers is -38. Two times the smaller number minus five times the larger number is -217. What are the numbers?              ...  [9, 47]  \n",
              "4     one number is 4 less than another. the difference  of twice the smaller and 5 times the larger number is -11. What are the numbers?                    ...  [-3, 1]  \n",
              "...                                                                                                                                   ...                    ...      ...  \n",
              "1499  if 5^21 x 4^11= 2 x 10^n what is the value of n?                                                                                                       ...  [21]     \n",
              "1500  Find the sum of a geometric sequence whose first term is 54, whose last (nth) term is 2, and whose common ratio is 1/3.                                ...  [80]     \n",
              "1501  Find the sum of the terms in the geometric series with a_1 = -9, r = -4, and a_n = 9,216?                                                              ...  [7371]   \n",
              "1502  What is the 7th term of the geometric sequence where a1 = -4 and a5 = -1,024?                                                                          ...  [-16384] \n",
              "1503  Suppose f(x)=4x-2 and g(x)=-2x+1. Find the value of f(5)/g(-3)?                                                                                        ...  [2.571]  \n",
              "\n",
              "[1504 rows x 3 columns]"
            ]
          },
          "metadata": {
            "tags": []
          },
          "execution_count": 23
        }
      ]
    },
    {
      "cell_type": "code",
      "metadata": {
        "id": "Hb9tiKiG5ubg",
        "colab": {
          "base_uri": "https://localhost:8080/"
        },
        "outputId": "58ae4eef-08df-484f-b06d-356bf17d9a0d"
      },
      "source": [
        "MAX_LENGTH = max(math_train.text.apply(lambda x: len(x.split(' '))).max(), \n",
        "                 math_test.text.apply(lambda x: len(x.split(' '))).max())\n",
        "MAX_LENGTH"
      ],
      "execution_count": null,
      "outputs": [
        {
          "output_type": "execute_result",
          "data": {
            "text/plain": [
              "77"
            ]
          },
          "metadata": {
            "tags": []
          },
          "execution_count": 24
        }
      ]
    },
    {
      "cell_type": "markdown",
      "metadata": {
        "id": "0h8vQGMc5ubh"
      },
      "source": [
        "# Create Vocab "
      ]
    },
    {
      "cell_type": "code",
      "metadata": {
        "id": "zGvGMKZe5ubi"
      },
      "source": [
        "SOS_token = 0\n",
        "EOS_token = 1\n",
        "\n",
        "\n",
        "class Lang:\n",
        "    def __init__(self, name):\n",
        "        self.name = name\n",
        "        self.word2index = {}\n",
        "        self.word2count = {}\n",
        "        self.index2word = {0: \"SOS\", 1: \"EOS\"}\n",
        "        self.n_words = 2  # Count SOS and EOS\n",
        "\n",
        "    def addSentence(self, sentence):\n",
        "        for word in sentence.split(' '):\n",
        "            self.addWord(word)\n",
        "\n",
        "    def addWord(self, word):\n",
        "        if word not in self.word2index:\n",
        "            self.word2index[word] = self.n_words\n",
        "            self.word2count[word] = 1\n",
        "            self.index2word[self.n_words] = word\n",
        "            self.n_words += 1\n",
        "        else:\n",
        "            self.word2count[word] += 1"
      ],
      "execution_count": null,
      "outputs": []
    },
    {
      "cell_type": "markdown",
      "metadata": {
        "id": "wgsgb6KR5ubi"
      },
      "source": [
        "# Normalization Functions"
      ]
    },
    {
      "cell_type": "code",
      "metadata": {
        "id": "lGxxLb8V5ubk"
      },
      "source": [
        "# Turn a Unicode string to plain ASCII, thanks to\n",
        "# http://stackoverflow.com/a/518232/2809427\n",
        "def unicodeToAscii(s):\n",
        "    return ''.join(\n",
        "        c for c in unicodedata.normalize('NFD', s)\n",
        "        if unicodedata.category(c) != 'Mn'\n",
        "    )\n",
        "\n",
        "# Lowercase, trim, and remove non-letter characters\n",
        "\n",
        "def normalizeString(s):\n",
        "    s = unicodeToAscii(s)\n",
        "    # ensure each math symbol is it's own token\n",
        "    s = \"\".join([ c if c.isalnum() else \" {} \".format(c) for c in s])\n",
        "    # remove the unknowns since tools like wolfram are good at identifying them\n",
        "    s = s[s.index(';') + 1:]\n",
        "    # remove all extra whitespaces\n",
        "    s = \" \".join(s.split())\n",
        "\n",
        "    return s"
      ],
      "execution_count": null,
      "outputs": []
    },
    {
      "cell_type": "code",
      "metadata": {
        "id": "X5xvWS6g5ubk"
      },
      "source": [
        "math_train.equations = math_train.equations.apply(lambda x: normalizeString(x)) \n",
        "math_test.equations = math_test.equations.apply(lambda x: normalizeString(x)) "
      ],
      "execution_count": null,
      "outputs": []
    },
    {
      "cell_type": "code",
      "metadata": {
        "id": "BRcBV1V95ubl",
        "colab": {
          "base_uri": "https://localhost:8080/"
        },
        "outputId": "b59f7c13-3287-4a38-8cd4-20b93f05f291"
      },
      "source": [
        "input_lang = Lang('text')\n",
        "output_lang = Lang('equations')\n",
        "train_pairs = [list(x) for x in math_train[['text', 'equations']].to_records(index=False)]\n",
        "test_pairs = [list(x) for x in math_test[['text', 'equations']].to_records(index=False)]\n",
        "\n",
        "for pairs in [train_pairs, test_pairs]:\n",
        "    for pair in pairs:\n",
        "        input_lang.addSentence(pair[0])\n",
        "        output_lang.addSentence(pair[1])\n",
        "print(random.choice(train_pairs))"
      ],
      "execution_count": null,
      "outputs": [
        {
          "output_type": "stream",
          "text": [
            "['if the sum of lcm and gcd of 2 consecutive numbers is 157, what is the sum of these numbers?', 'equ : s = n + ( n + 1 ) ; equ : 1 + n ( n + 1 ) = 157']\n"
          ],
          "name": "stdout"
        }
      ]
    },
    {
      "cell_type": "markdown",
      "metadata": {
        "id": "maY6FTc15ubl"
      },
      "source": [
        "# The Seq2Seq Model\n"
      ]
    },
    {
      "cell_type": "markdown",
      "metadata": {
        "id": "7V-iABkc5ubm"
      },
      "source": [
        "## Encoder"
      ]
    },
    {
      "cell_type": "code",
      "metadata": {
        "id": "j6hhjL0v5ubm"
      },
      "source": [
        "class EncoderRNN(nn.Module):\n",
        "    def __init__(self, input_size, hidden_size):\n",
        "        super(EncoderRNN, self).__init__()\n",
        "        self.hidden_size = hidden_size\n",
        "\n",
        "        self.embedding = nn.Embedding(input_size, hidden_size)\n",
        "        self.gru = nn.GRU(hidden_size, hidden_size)\n",
        "\n",
        "    def forward(self, input, hidden):\n",
        "        embedded = self.embedding(input).view(1, 1, -1)\n",
        "        output = embedded\n",
        "        output, hidden = self.gru(output, hidden)\n",
        "        return output, hidden\n",
        "\n",
        "    def initHidden(self):\n",
        "        return torch.zeros(1, 1, self.hidden_size, device=device)"
      ],
      "execution_count": null,
      "outputs": []
    },
    {
      "cell_type": "markdown",
      "metadata": {
        "id": "mJLqAMSA5ubn"
      },
      "source": [
        "## AttnDecoder"
      ]
    },
    {
      "cell_type": "code",
      "metadata": {
        "id": "gbPkikVX5ubn"
      },
      "source": [
        "class AttnDecoderRNN(nn.Module):\n",
        "    def __init__(self, hidden_size, output_size, dropout_p=0.1, max_length=MAX_LENGTH):\n",
        "        super(AttnDecoderRNN, self).__init__()\n",
        "        self.hidden_size = hidden_size\n",
        "        self.output_size = output_size\n",
        "        self.dropout_p = dropout_p\n",
        "        self.max_length = max_length\n",
        "\n",
        "        self.embedding = nn.Embedding(self.output_size, self.hidden_size)\n",
        "        self.attn = nn.Linear(self.hidden_size * 2, self.max_length)\n",
        "        self.attn_combine = nn.Linear(self.hidden_size * 2, self.hidden_size)\n",
        "        self.dropout = nn.Dropout(self.dropout_p)\n",
        "        self.gru = nn.GRU(self.hidden_size, self.hidden_size)\n",
        "        self.out = nn.Linear(self.hidden_size, self.output_size)\n",
        "\n",
        "    def forward(self, input, hidden, encoder_outputs):\n",
        "        embedded = self.embedding(input).view(1, 1, -1)\n",
        "        embedded = self.dropout(embedded)\n",
        "\n",
        "        attn_weights = F.softmax(\n",
        "            self.attn(torch.cat((embedded[0], hidden[0]), 1)), dim=1)\n",
        "        attn_applied = torch.bmm(attn_weights.unsqueeze(0),\n",
        "                                 encoder_outputs.unsqueeze(0))\n",
        "\n",
        "        output = torch.cat((embedded[0], attn_applied[0]), 1)\n",
        "        output = self.attn_combine(output).unsqueeze(0)\n",
        "\n",
        "        output = F.relu(output)\n",
        "        output, hidden = self.gru(output, hidden)\n",
        "\n",
        "        output = F.log_softmax(self.out(output[0]), dim=1)\n",
        "        return output, hidden, attn_weights\n",
        "\n",
        "    def initHidden(self):\n",
        "        return torch.zeros(1, 1, self.hidden_size, device=device)"
      ],
      "execution_count": null,
      "outputs": []
    },
    {
      "cell_type": "markdown",
      "metadata": {
        "id": "03OdhzMa5ubn"
      },
      "source": [
        "Training\n",
        "========\n",
        "\n",
        "Preparing Training Data\n",
        "-----------------------\n",
        "\n",
        "To train, for each pair we will need an input tensor (indexes of the\n",
        "words in the input sentence) and target tensor (indexes of the words in\n",
        "the target sentence). While creating these vectors we will append the\n",
        "EOS token to both sequences.\n",
        "\n"
      ]
    },
    {
      "cell_type": "code",
      "metadata": {
        "id": "25a9Eo8A5ubn"
      },
      "source": [
        "def indexesFromSentence(lang, sentence):\n",
        "    return [lang.word2index[word] for word in sentence.split(' ')]\n",
        "\n",
        "\n",
        "def tensorFromSentence(lang, sentence):\n",
        "    indexes = indexesFromSentence(lang, sentence)\n",
        "    indexes.append(EOS_token)\n",
        "    return torch.tensor(indexes, dtype=torch.long, device=device).view(-1, 1)\n",
        "\n",
        "\n",
        "def tensorsFromPair(pair):\n",
        "    input_tensor = tensorFromSentence(input_lang, pair[0])\n",
        "    target_tensor = tensorFromSentence(output_lang, pair[1])\n",
        "    return (input_tensor, target_tensor)"
      ],
      "execution_count": null,
      "outputs": []
    },
    {
      "cell_type": "markdown",
      "metadata": {
        "id": "8qD5JdQs5ubo"
      },
      "source": [
        "Training the Model\n",
        "------------------\n",
        "\n",
        "To train we run the input sentence through the encoder, and keep track\n",
        "of every output and the latest hidden state. Then the decoder is given\n",
        "the ``<SOS>`` token as its first input, and the last hidden state of the\n",
        "encoder as its first hidden state.\n",
        "\n",
        "\"Teacher forcing\" is the concept of using the real target outputs as\n",
        "each next input, instead of using the decoder's guess as the next input.\n",
        "Using teacher forcing causes it to converge faster but `when the trained\n",
        "network is exploited, it may exhibit\n",
        "instability <http://minds.jacobs-university.de/sites/default/files/uploads/papers/ESNTutorialRev.pdf>`__.\n",
        "\n",
        "You can observe outputs of teacher-forced networks that read with\n",
        "coherent grammar but wander far from the correct translation -\n",
        "intuitively it has learned to represent the output grammar and can \"pick\n",
        "up\" the meaning once the teacher tells it the first few words, but it\n",
        "has not properly learned how to create the sentence from the translation\n",
        "in the first place.\n",
        "\n",
        "Because of the freedom PyTorch's autograd gives us, we can randomly\n",
        "choose to use teacher forcing or not with a simple if statement. Turn\n",
        "``teacher_forcing_ratio`` up to use more of it."
      ]
    },
    {
      "cell_type": "code",
      "metadata": {
        "id": "rIwlheIF5ubo"
      },
      "source": [
        "teacher_forcing_ratio = 0.5\n",
        "\n",
        "\n",
        "def train(input_tensor, target_tensor, encoder, decoder, encoder_optimizer, decoder_optimizer, criterion, max_length=MAX_LENGTH):\n",
        "    encoder_hidden = encoder.initHidden()\n",
        "\n",
        "    encoder_optimizer.zero_grad()\n",
        "    decoder_optimizer.zero_grad()\n",
        "\n",
        "    input_length = input_tensor.size(0)\n",
        "    target_length = target_tensor.size(0)\n",
        "\n",
        "    encoder_outputs = torch.zeros(max_length, encoder.hidden_size, device=device)\n",
        "\n",
        "    loss = 0\n",
        "\n",
        "    for ei in range(input_length):\n",
        "        encoder_output, encoder_hidden = encoder(\n",
        "            input_tensor[ei], encoder_hidden)\n",
        "        encoder_outputs[ei] = encoder_output[0, 0]\n",
        "\n",
        "    decoder_input = torch.tensor([[SOS_token]], device=device)\n",
        "\n",
        "    decoder_hidden = encoder_hidden\n",
        "\n",
        "    use_teacher_forcing = True if random.random() < teacher_forcing_ratio else False\n",
        "\n",
        "    if use_teacher_forcing:\n",
        "        # Teacher forcing: Feed the target as the next input\n",
        "        for di in range(target_length):\n",
        "            decoder_output, decoder_hidden, decoder_attention = decoder(\n",
        "                decoder_input, decoder_hidden, encoder_outputs)\n",
        "            loss += criterion(decoder_output, target_tensor[di])\n",
        "            decoder_input = target_tensor[di]  # Teacher forcing\n",
        "\n",
        "    else:\n",
        "        # Without teacher forcing: use its own predictions as the next input\n",
        "        for di in range(target_length):\n",
        "            decoder_output, decoder_hidden, decoder_attention = decoder(\n",
        "                decoder_input, decoder_hidden, encoder_outputs)\n",
        "            topv, topi = decoder_output.topk(1)\n",
        "            decoder_input = topi.squeeze().detach()  # detach from history as input\n",
        "\n",
        "            loss += criterion(decoder_output, target_tensor[di])\n",
        "            if decoder_input.item() == EOS_token:\n",
        "                break\n",
        "\n",
        "    loss.backward()\n",
        "\n",
        "    encoder_optimizer.step()\n",
        "    decoder_optimizer.step()\n",
        "\n",
        "    return loss.item() / target_length"
      ],
      "execution_count": null,
      "outputs": []
    },
    {
      "cell_type": "markdown",
      "metadata": {
        "id": "CXcZdkEr5ubo"
      },
      "source": [
        "This is a helper function to print time elapsed and estimated time\n",
        "remaining given the current time and progress %."
      ]
    },
    {
      "cell_type": "code",
      "metadata": {
        "id": "PMORtuOq5ubo"
      },
      "source": [
        "import time\n",
        "import math\n",
        "\n",
        "\n",
        "def asMinutes(s):\n",
        "    m = math.floor(s / 60)\n",
        "    s -= m * 60\n",
        "    return '%dm %ds' % (m, s)\n",
        "\n",
        "\n",
        "def timeSince(since, percent):\n",
        "    now = time.time()\n",
        "    s = now - since\n",
        "    es = s / (percent)\n",
        "    rs = es - s\n",
        "    return '%s (- %s)' % (asMinutes(s), asMinutes(rs))"
      ],
      "execution_count": null,
      "outputs": []
    },
    {
      "cell_type": "markdown",
      "metadata": {
        "id": "4chQXYD95ubp"
      },
      "source": [
        "The whole training process looks like this:\n",
        "\n",
        "-  Start a timer\n",
        "-  Initialize optimizers and criterion\n",
        "-  Create set of training pairs\n",
        "-  Start empty losses array for plotting\n",
        "\n",
        "Then we call ``train`` many times and occasionally print the progress (%\n",
        "of examples, time so far, estimated time) and average loss."
      ]
    },
    {
      "cell_type": "code",
      "metadata": {
        "id": "C10xzy815ubp"
      },
      "source": [
        "def trainIters(encoder, decoder, n_iters, print_every=1000, plot_every=100, learning_rate=0.01):\n",
        "    start = time.time()\n",
        "    plot_losses = []\n",
        "    print_loss_total = 0  # Reset every print_every\n",
        "    plot_loss_total = 0  # Reset every plot_every\n",
        "\n",
        "    encoder_optimizer = optim.Adam(encoder.parameters())#, lr=learning_rate)\n",
        "    decoder_optimizer = optim.Adam(decoder.parameters())#, lr=learning_rate)\n",
        "    training_pairs = [tensorsFromPair(random.choice(train_pairs))\\\n",
        "                      for i in range(n_iters)]\n",
        "    criterion = nn.NLLLoss()\n",
        "\n",
        "    for iter in range(1, n_iters + 1):\n",
        "        training_pair = training_pairs[iter - 1]\n",
        "        input_tensor = training_pair[0]\n",
        "        target_tensor = training_pair[1]\n",
        "\n",
        "        loss = train(input_tensor, target_tensor, encoder,\n",
        "                     decoder, encoder_optimizer, decoder_optimizer, criterion)\n",
        "        print_loss_total += loss\n",
        "        plot_loss_total += loss\n",
        "\n",
        "        if iter % print_every == 0:\n",
        "            print_loss_avg = print_loss_total / print_every\n",
        "            print_loss_total = 0\n",
        "            print('%s (%d %d%%) %.4f' % (timeSince(start, iter / n_iters),\n",
        "                                         iter, iter / n_iters * 100, print_loss_avg))\n",
        "\n",
        "        if iter % plot_every == 0:\n",
        "            plot_loss_avg = plot_loss_total / plot_every\n",
        "            plot_losses.append(plot_loss_avg)\n",
        "            plot_loss_total = 0\n",
        "\n",
        "    showPlot(plot_losses)"
      ],
      "execution_count": null,
      "outputs": []
    },
    {
      "cell_type": "markdown",
      "metadata": {
        "id": "SSJgGwJi5ubp"
      },
      "source": [
        "Plotting results\n",
        "----------------\n",
        "\n",
        "Plotting is done with matplotlib, using the array of loss values\n",
        "``plot_losses`` saved while training.\n",
        "\n"
      ]
    },
    {
      "cell_type": "code",
      "metadata": {
        "id": "NReaGyTB5ubp"
      },
      "source": [
        "import matplotlib.pyplot as plt\n",
        "plt.switch_backend('agg')\n",
        "import matplotlib.ticker as ticker\n",
        "import numpy as np\n",
        "\n",
        "\n",
        "def showPlot(points):\n",
        "    plt.figure()\n",
        "    fig, ax = plt.subplots()\n",
        "    # this locator puts ticks at regular intervals\n",
        "    loc = ticker.MultipleLocator(base=0.2)\n",
        "    ax.yaxis.set_major_locator(loc)\n",
        "    plt.plot(points)"
      ],
      "execution_count": null,
      "outputs": []
    },
    {
      "cell_type": "markdown",
      "metadata": {
        "id": "WFHDSwKF5ubq"
      },
      "source": [
        "Evaluation\n",
        "==========\n",
        "\n",
        "Evaluation is mostly the same as training, but there are no targets so\n",
        "we simply feed the decoder's predictions back to itself for each step.\n",
        "Every time it predicts a word we add it to the output string, and if it\n",
        "predicts the EOS token we stop there. We also store the decoder's\n",
        "attention outputs for display later.\n"
      ]
    },
    {
      "cell_type": "code",
      "metadata": {
        "id": "I2-Etuej5ubq"
      },
      "source": [
        "def evaluate(encoder, decoder, sentence, max_length=MAX_LENGTH):\n",
        "    with torch.no_grad():\n",
        "        input_tensor = tensorFromSentence(input_lang, sentence)\n",
        "        input_length = input_tensor.size()[0]\n",
        "        encoder_hidden = encoder.initHidden()\n",
        "\n",
        "        encoder_outputs = torch.zeros(max_length, encoder.hidden_size, device=device)\n",
        "\n",
        "        for ei in range(input_length):\n",
        "            encoder_output, encoder_hidden = encoder(input_tensor[ei],\n",
        "                                                     encoder_hidden)\n",
        "            encoder_outputs[ei] += encoder_output[0, 0]\n",
        "\n",
        "        decoder_input = torch.tensor([[SOS_token]], device=device)  # SOS\n",
        "\n",
        "        decoder_hidden = encoder_hidden\n",
        "\n",
        "        decoded_words = []\n",
        "        decoder_attentions = torch.zeros(max_length, max_length)\n",
        "\n",
        "        for di in range(max_length):\n",
        "            decoder_output, decoder_hidden, decoder_attention = decoder(\n",
        "                decoder_input, decoder_hidden, encoder_outputs)\n",
        "            decoder_attentions[di] = decoder_attention.data\n",
        "            topv, topi = decoder_output.data.topk(1)\n",
        "            if topi.item() == EOS_token:\n",
        "                decoded_words.append('<EOS>')\n",
        "                break\n",
        "            else:\n",
        "                decoded_words.append(output_lang.index2word[topi.item()])\n",
        "\n",
        "            decoder_input = topi.squeeze().detach()\n",
        "\n",
        "        return decoded_words, decoder_attentions[:di + 1]"
      ],
      "execution_count": null,
      "outputs": []
    },
    {
      "cell_type": "markdown",
      "metadata": {
        "id": "UA1xg6zG5ubq"
      },
      "source": [
        "We can evaluate random sentences from the training set and print out the\n",
        "input, target, and output to make some subjective quality judgements:\n"
      ]
    },
    {
      "cell_type": "code",
      "metadata": {
        "id": "wrE8fioX5ubq"
      },
      "source": [
        "def evaluateRandomly(encoder, decoder, n=10):\n",
        "    for i in range(n):\n",
        "        pair = random.choice(test_pairs)\n",
        "        print('>', pair[0])\n",
        "        print('=', pair[1])\n",
        "        output_words, attentions = evaluate(encoder, decoder, pair[0])\n",
        "        output_sentence = ' '.join(output_words)\n",
        "        print('<', output_sentence)\n",
        "        print('')"
      ],
      "execution_count": null,
      "outputs": []
    },
    {
      "cell_type": "markdown",
      "metadata": {
        "id": "fTmREAV15ubq"
      },
      "source": [
        "Training and Evaluating\n",
        "=======================\n",
        "\n",
        "With all these helper functions in place (it looks like extra work, but\n",
        "it makes it easier to run multiple experiments) we can actually\n",
        "initialize a network and start training.\n",
        "\n",
        "Remember that the input sentences were heavily filtered. For this small\n",
        "dataset we can use relatively small networks of 256 hidden nodes and a\n",
        "single GRU layer.\n",
        "\n",
        ".. Note::\n",
        "   If you run this notebook you can train, interrupt the kernel,\n",
        "   evaluate, and continue training later. Comment out the lines where the\n",
        "   encoder and decoder are initialized and run ``trainIters`` again.\n",
        "\n",
        "\n"
      ]
    },
    {
      "cell_type": "code",
      "metadata": {
        "id": "43OhiZ5l5ubr",
        "colab": {
          "base_uri": "https://localhost:8080/"
        },
        "outputId": "6d576845-1e7f-4659-ce1b-97f3e9501461"
      },
      "source": [
        "hidden_size = 256\n",
        "encoder1 = EncoderRNN(input_lang.n_words, hidden_size).to(device)\n",
        "attn_decoder1 = AttnDecoderRNN(hidden_size, output_lang.n_words, dropout_p=0.2).to(device)\n",
        "\n",
        "trainIters(encoder1, attn_decoder1, 50, print_every=1)"
      ],
      "execution_count": null,
      "outputs": [
        {
          "output_type": "stream",
          "text": [
            "0m 0s (- 0m 7s) (1 2%) 6.0084\n",
            "0m 0s (- 0m 6s) (2 4%) 5.7657\n",
            "0m 0s (- 0m 6s) (3 6%) 5.6221\n",
            "0m 0s (- 0m 7s) (4 8%) 5.7414\n",
            "0m 0s (- 0m 7s) (5 10%) 5.2937\n",
            "0m 0s (- 0m 6s) (6 12%) 4.9521\n",
            "0m 1s (- 0m 6s) (7 14%) 4.2893\n",
            "0m 1s (- 0m 6s) (8 16%) 4.8399\n",
            "0m 1s (- 0m 5s) (9 18%) 4.4413\n",
            "0m 1s (- 0m 5s) (10 20%) 3.7816\n",
            "0m 1s (- 0m 6s) (11 22%) 4.0559\n",
            "0m 1s (- 0m 5s) (12 24%) 2.6468\n",
            "0m 1s (- 0m 5s) (13 26%) 3.2175\n",
            "0m 2s (- 0m 5s) (14 28%) 3.6204\n",
            "0m 2s (- 0m 5s) (15 30%) 3.4000\n",
            "0m 2s (- 0m 5s) (16 32%) 3.9219\n",
            "0m 2s (- 0m 5s) (17 34%) 3.2652\n",
            "0m 2s (- 0m 5s) (18 36%) 2.8869\n",
            "0m 3s (- 0m 4s) (19 38%) 2.7847\n",
            "0m 3s (- 0m 4s) (20 40%) 2.6839\n",
            "0m 3s (- 0m 4s) (21 42%) 2.7054\n",
            "0m 3s (- 0m 4s) (22 44%) 3.6195\n",
            "0m 3s (- 0m 4s) (23 46%) 3.5382\n",
            "0m 4s (- 0m 4s) (24 48%) 3.2953\n",
            "0m 4s (- 0m 4s) (25 50%) 2.4645\n",
            "0m 4s (- 0m 4s) (26 52%) 2.3769\n",
            "0m 4s (- 0m 3s) (27 54%) 3.9385\n",
            "0m 4s (- 0m 3s) (28 56%) 3.5920\n",
            "0m 4s (- 0m 3s) (29 57%) 2.5540\n",
            "0m 5s (- 0m 3s) (30 60%) 2.1523\n",
            "0m 5s (- 0m 3s) (31 62%) 4.0917\n",
            "0m 5s (- 0m 3s) (32 64%) 3.2534\n",
            "0m 5s (- 0m 2s) (33 66%) 3.8037\n",
            "0m 5s (- 0m 2s) (34 68%) 3.5597\n",
            "0m 5s (- 0m 2s) (35 70%) 3.5731\n",
            "0m 6s (- 0m 2s) (36 72%) 4.2228\n",
            "0m 6s (- 0m 2s) (37 74%) 2.5934\n",
            "0m 6s (- 0m 2s) (38 76%) 2.3991\n",
            "0m 6s (- 0m 1s) (39 78%) 3.3710\n",
            "0m 6s (- 0m 1s) (40 80%) 2.2518\n",
            "0m 6s (- 0m 1s) (41 82%) 3.1518\n",
            "0m 6s (- 0m 1s) (42 84%) 3.1723\n",
            "0m 7s (- 0m 1s) (43 86%) 3.3971\n",
            "0m 7s (- 0m 0s) (44 88%) 2.8430\n",
            "0m 7s (- 0m 0s) (45 90%) 2.5277\n",
            "0m 7s (- 0m 0s) (46 92%) 3.8836\n",
            "0m 7s (- 0m 0s) (47 94%) 2.3986\n",
            "0m 7s (- 0m 0s) (48 96%) 2.3451\n",
            "0m 8s (- 0m 0s) (49 98%) 2.6581\n",
            "0m 8s (- 0m 0s) (50 100%) 2.3646\n"
          ],
          "name": "stdout"
        }
      ]
    },
    {
      "cell_type": "code",
      "metadata": {
        "id": "hRPeZhhR5ubr",
        "colab": {
          "base_uri": "https://localhost:8080/"
        },
        "outputId": "19844b2c-c5a4-4027-d28f-16a161ec0ca5"
      },
      "source": [
        "evaluateRandomly(encoder1, attn_decoder1)"
      ],
      "execution_count": null,
      "outputs": [
        {
          "output_type": "stream",
          "text": [
            "> the sum of two consecutive even integers is -298. what are the integers?\n",
            "= equ : 2 * k + ( 2 * k + 2 ) = - 298\n",
            "< equ : x + 2 * k + 2 * k + 2 * k + 2 * k + 2 * k + 2 * k + 2 * k + 2 * k + 2 * k + 2 * k + 2 * k + 2 * k + 2 * k + 2 * k + 2 * k + 2 * k + 2 * k + 2 * k + 2\n",
            "\n",
            "> The sum of two numbers is 55. The smaller is 5 less than the larger. What are the numbers\n",
            "= equ : x + y = 55 ; equ : x = y - 5\n",
            "< equ : x + 2 * k + 2 * k + 2 * k + 2 * k + 2 * k + 2 * k + 2 * k + 2 * k + 2 * k + 2 * k + 2 * k + 2 * k + 2 * k + 2 * k + 2 * k + 2 * k + 2 * k + 2 * k + 2\n",
            "\n",
            "> What is the number that is one half of one quarter of one tenth of 400?\n",
            "= equ : x = 1 / 2 * 1 / 4 * 1 / 10 * 400\n",
            "< equ : x + 2 * k + 2 * k + 2 * k + 2 * k + 2 * k + 2 * k + 2 * k + 2 * k + 2 * k + 2 * k + 2 * k + 2 * k + 2 * k + 2 * k + 2 * k + 2 * k + 2 * k + 2 * k + 2\n",
            "\n",
            "> Find four consecutive even integers such that the sum of the squares of the first and the second is 12 more than the last.\n",
            "= equ : x ^ 2 + ( x + 2 ) ^ 2 - 12 = x + 6\n",
            "< equ : x + 2 * k + 2 * k + 2 * k + 2 * k + 2 * k + 2 * k + 2 * k + 2 * k + 2 * k + 2 * k + 2 * k + 2 * k + 2 * k + 2 * k + 2 * k + 2 * k + 2 * k + 2 * k + 2\n",
            "\n",
            "> If y= 4(2x-9)+25. what is the value of y when x=25?\n",
            "= equ : y = 4 ( 2 * x - 9 ) + 25 ; equ : x = 25\n",
            "< equ : x + 2 * k + 2 * k + 2 * k + 2 * k + 2 * k + 2 * k + 2 * k + 2 * k + 2 * k + 2 * k + 2 * k + 2 * k + 2 * k + 2 * k + 2 * k + 2 * k + 2 * k + 2 * k + 2\n",
            "\n",
            "> find four consecutive odd integers so that the sum of the smallest integer and the largest integer is the same as the sum of all four integers\n",
            "= equ : ( 2 * k - 3 ) + ( 2 * k + 3 ) = ( 2 * k - 3 ) + ( 2 * k - 1 ) + ( 2 * k + 1 ) + ( 2 * k + 3 )\n",
            "< equ : x + 2 * k + 2 * k + 2 * k + 2 * k + 2 * k + 2 * k + 2 * k + 2 * k + 2 * k + 2 * k + 2 * k + 2 * k + 2 * k + 2 * k + 2 * k + 2 * k + 2 * k + 2 * k + 2\n",
            "\n",
            "> A number when multiplied by 7/18 instead of 7/8 and got the result770 less than the actual result , find the original number?\n",
            "= equ : 7 / 18 * n = 7 / 8 * n - 770\n",
            "< equ : x + 2 * k + 2 * k + 2 * k + 2 * k + 2 * k + 2 * k + 2 * k + 2 * k + 2 * k + 2 * k + 2 * k + 2 * k + 2 * k + 2 * k + 2 * k + 2 * k + 2 * k + 2 * k + 2\n",
            "\n",
            "> The sum of two numbers is six. The sum of the squares of the two numbers is twenty. Find the two numbers.\n",
            "= equ : x + y = 6 ; equ : x ^ 2 + y ^ 2 = 20\n",
            "< equ : x + 2 * k + 2 * k + 2 * k + 2 * k + 2 * k + 2 * k + 2 * k + 2 * k + 2 * k + 2 * k + 2 * k + 2 * k + 2 * k + 2 * k + 2 * k + 2 * k + 2 * k + 2 * k + 2\n",
            "\n",
            "> if the sum of five consecutive integers is 60, find the value of the largest integer.\n",
            "= equ : ( x - 2 ) + ( x - 1 ) + x + ( x + 1 ) + ( x + 2 ) = 60\n",
            "< equ : x + 2 * k + 2 * k + 2 * k + 2 * k + 2 * k + 2 * k + 2 * k + 2 * k + 2 * k + 2 * k + 2 * k + 2 * k + 2 * k + 2 * k + 2 * k + 2 * k + 2 * k + 2 * k + 2\n",
            "\n",
            "> The larger of two numbers is 2 more than twice the smaller. Ten times the smaller number is 2 less than 4 times the larger number.  Find the 2 numbers.\n",
            "= equ : x = 2 * y + 2 ; equ : 10 * y = 4 * x - 2\n",
            "< equ : x + 2 * k + 2 * k + 2 * k + 2 * k + 2 * k + 2 * k + 2 * k + 2 * k + 2 * k + 2 * k + 2 * k + 2 * k + 2 * k + 2 * k + 2 * k + 2 * k + 2 * k + 2 * k + 2\n",
            "\n"
          ],
          "name": "stdout"
        }
      ]
    },
    {
      "cell_type": "code",
      "metadata": {
        "id": "RKiiQfmy5ubr",
        "colab": {
          "base_uri": "https://localhost:8080/"
        },
        "outputId": "a55a603e-9f32-4c3f-c67f-abbb5cff946a"
      },
      "source": [
        "def showAttention(input_sentence, output_words, attentions):\n",
        "    # Set up figure with colorbar\n",
        "    fig = plt.figure()\n",
        "    ax = fig.add_subplot(111)\n",
        "    cax = ax.matshow(attentions.numpy(), cmap='bone')\n",
        "    fig.colorbar(cax)\n",
        "\n",
        "    # Set up axes\n",
        "    ax.set_xticklabels([''] + input_sentence.split(' ') +\n",
        "                       ['<EOS>'], rotation=90)\n",
        "    ax.set_yticklabels([''] + output_words)\n",
        "\n",
        "    # Show label at every tick\n",
        "    ax.xaxis.set_major_locator(ticker.MultipleLocator(1))\n",
        "    ax.yaxis.set_major_locator(ticker.MultipleLocator(1))\n",
        "\n",
        "    plt.show()\n",
        "\n",
        "\n",
        "def evaluateAndShowAttention(input_sentence):\n",
        "    output_words, attentions = evaluate(\n",
        "        encoder1, attn_decoder1, input_sentence)\n",
        "    print('input =', input_sentence)\n",
        "    print('output =', ' '.join(output_words))\n",
        "    print (len(output_words))\n",
        "    showAttention(input_sentence, output_words, attentions)\n",
        "\n",
        "\n",
        "evaluateAndShowAttention(\"the sum of the digits of a 2-digit number is 7. The tens digit is one less than 3 times the units digit. Find the number.\")\n",
        "\n"
      ],
      "execution_count": null,
      "outputs": [
        {
          "output_type": "stream",
          "text": [
            "input = the sum of the digits of a 2-digit number is 7. The tens digit is one less than 3 times the units digit. Find the number.\n",
            "output = equ : x + 2 * k + 2 * k + 2 * k + 2 * k + 2 * k + 2 * k + 2 * k + 2 * k + 2 * k + 2 * k + 2 * k + 2 * k + 2 * k + 2 * k + 2 * k + 2 * k + 2 * k + 2 * k + 2\n",
            "77\n"
          ],
          "name": "stdout"
        }
      ]
    },
    {
      "cell_type": "code",
      "metadata": {
        "id": "QP2Pr6ou5ubs",
        "colab": {
          "base_uri": "https://localhost:8080/",
          "height": 381
        },
        "outputId": "fd29db55-d4d2-42dc-f341-6bca3353f534"
      },
      "source": [
        "import azureml.core\n",
        "\n",
        "print(\"SDK Version:\", azureml.core.VERSION)\n",
        "from azureml.core import Workspace\n",
        "\n",
        "subscription_id ='<subscription-id>'\n",
        "resource_group ='<resource-group>'\n",
        "workspace_name = '<workspace-name>'\n",
        "\n",
        "try:\n",
        "   ws = Workspace(subscription_id = subscription_id, resource_group = resource_group, workspace_name = workspace_name)\n",
        "   ws.write_config()\n",
        "   print('Workspace configuration succeeded. You are all set!')\n",
        "except:\n",
        "   print('Workspace not found. Run the cells below.')\n"
      ],
      "execution_count": null,
      "outputs": [
        {
          "output_type": "error",
          "ename": "ModuleNotFoundError",
          "evalue": "ignored",
          "traceback": [
            "\u001b[0;31m---------------------------------------------------------------------------\u001b[0m",
            "\u001b[0;31mModuleNotFoundError\u001b[0m                       Traceback (most recent call last)",
            "\u001b[0;32m<ipython-input-44-05a427a2628d>\u001b[0m in \u001b[0;36m<module>\u001b[0;34m()\u001b[0m\n\u001b[0;32m----> 1\u001b[0;31m \u001b[0;32mimport\u001b[0m \u001b[0mazureml\u001b[0m\u001b[0;34m.\u001b[0m\u001b[0mcore\u001b[0m\u001b[0;34m\u001b[0m\u001b[0;34m\u001b[0m\u001b[0m\n\u001b[0m\u001b[1;32m      2\u001b[0m \u001b[0;34m\u001b[0m\u001b[0m\n\u001b[1;32m      3\u001b[0m \u001b[0mprint\u001b[0m\u001b[0;34m(\u001b[0m\u001b[0;34m\"SDK Version:\"\u001b[0m\u001b[0;34m,\u001b[0m \u001b[0mazureml\u001b[0m\u001b[0;34m.\u001b[0m\u001b[0mcore\u001b[0m\u001b[0;34m.\u001b[0m\u001b[0mVERSION\u001b[0m\u001b[0;34m)\u001b[0m\u001b[0;34m\u001b[0m\u001b[0;34m\u001b[0m\u001b[0m\n\u001b[1;32m      4\u001b[0m \u001b[0;32mfrom\u001b[0m \u001b[0mazureml\u001b[0m\u001b[0;34m.\u001b[0m\u001b[0mcore\u001b[0m \u001b[0;32mimport\u001b[0m \u001b[0mWorkspace\u001b[0m\u001b[0;34m\u001b[0m\u001b[0;34m\u001b[0m\u001b[0m\n\u001b[1;32m      5\u001b[0m \u001b[0;34m\u001b[0m\u001b[0m\n",
            "\u001b[0;31mModuleNotFoundError\u001b[0m: No module named 'azureml'",
            "",
            "\u001b[0;31m---------------------------------------------------------------------------\u001b[0;32m\nNOTE: If your import is failing due to a missing package, you can\nmanually install dependencies using either !pip or !apt.\n\nTo view examples of installing some common dependencies, click the\n\"Open Examples\" button below.\n\u001b[0;31m---------------------------------------------------------------------------\u001b[0m\n"
          ]
        }
      ]
    },
    {
      "cell_type": "code",
      "metadata": {
        "id": "m0zHQyFX5ubs"
      },
      "source": [
        ""
      ],
      "execution_count": null,
      "outputs": []
    }
  ]
}